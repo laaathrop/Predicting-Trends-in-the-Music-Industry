{
 "cells": [
  {
   "cell_type": "code",
   "execution_count": 21,
   "metadata": {},
   "outputs": [],
   "source": [
    "# Imports\n",
    "import pandas as pd\n",
    "import requests, json, time, datetime\n",
    "import praw"
   ]
  },
  {
   "cell_type": "markdown",
   "metadata": {},
   "source": [
    "The majority of this code was adapted from our PRAW scraping lesson."
   ]
  },
  {
   "cell_type": "code",
   "execution_count": 2,
   "metadata": {},
   "outputs": [],
   "source": [
    "# My Reddit credentials\n",
    "red_creds = {\n",
    "    \n",
    "    'id': 'EE3gLvAWeX8VIg',\n",
    "    'secret': 'TlnAE1i9zbf9Oj53AdSX4vb--XM',\n",
    "    'user': 'BlazingTony',\n",
    "    'pass': 'UltraMiami45!'\n",
    "}"
   ]
  },
  {
   "cell_type": "code",
   "execution_count": 22,
   "metadata": {},
   "outputs": [
    {
     "data": {
      "text/plain": [
       "'{\"id\": \"EE3gLvAWeX8VIg\", \"secret\": \"TlnAE1i9zbf9Oj53AdSX4vb--XM\", \"user\": \"BlazingTony\", \"pass\": \"UltraMiami45!\"}'"
      ]
     },
     "execution_count": 22,
     "metadata": {},
     "output_type": "execute_result"
    }
   ],
   "source": [
    "# Create JSON string from credentials\n",
    "json.dumps(red_creds)"
   ]
  },
  {
   "cell_type": "code",
   "execution_count": 23,
   "metadata": {},
   "outputs": [],
   "source": [
    "# Write credentials to file as a JSON string\n",
    "with open('red_creds.json', 'w+') as file:\n",
    "    file.write(json.dumps(red_creds))"
   ]
  },
  {
   "cell_type": "code",
   "execution_count": 5,
   "metadata": {},
   "outputs": [],
   "source": [
    "#!ls -a"
   ]
  },
  {
   "cell_type": "code",
   "execution_count": 24,
   "metadata": {},
   "outputs": [],
   "source": [
    "# Read credentials from file\n",
    "red_cred_file = open('red_creds.json', 'r')\n",
    "reddit_credentials = json.loads(red_cred_file.read())"
   ]
  },
  {
   "cell_type": "code",
   "execution_count": 25,
   "metadata": {},
   "outputs": [],
   "source": [
    "# Instantiate Reddit class via credentials\n",
    "reddit = praw.Reddit(\n",
    "    \n",
    "    client_id = reddit_credentials['id'],\n",
    "    client_secret = reddit_credentials['secret'],\n",
    "    username = reddit_credentials['user'],\n",
    "    password = reddit_credentials['pass'],\n",
    "    user_agent = 'anthony'\n",
    ")"
   ]
  },
  {
   "cell_type": "code",
   "execution_count": 26,
   "metadata": {},
   "outputs": [],
   "source": [
    "def age(post_time):\n",
    "    return (time.time() - post_time) / 60"
   ]
  },
  {
   "cell_type": "code",
   "execution_count": 27,
   "metadata": {},
   "outputs": [],
   "source": [
    "# Create a custom function that takes in a string and outputs a dataframe containing 1000 threads\n",
    "def get_batch(name):\n",
    "    \n",
    "    data = reddit.subreddit(name)\n",
    "    roof = [i for i in data.hot(limit=1000)]\n",
    "    tip = roof[0]\n",
    "    \n",
    "    titles = [thread.title for thread in roof]\n",
    "    comments = [thread.num_comments for thread in roof] \n",
    "    ages = [age(thread.created_utc) for thread in roof]\n",
    "    sub_name = [name for thread in roof] \n",
    "    \n",
    "    thread_dict = {\n",
    "        \n",
    "        'title': titles,\n",
    "        'comments': comments,\n",
    "        'age': ages,\n",
    "        'thread': sub_name\n",
    "    }\n",
    "    \n",
    "    return pd.DataFrame(thread_dict)"
   ]
  },
  {
   "cell_type": "code",
   "execution_count": 28,
   "metadata": {},
   "outputs": [],
   "source": [
    "# Create two DataFrames from above function\n",
    "rock = get_batch('rock')\n",
    "rap = get_batch('rap')"
   ]
  },
  {
   "cell_type": "code",
   "execution_count": 29,
   "metadata": {},
   "outputs": [
    {
     "data": {
      "text/html": [
       "<div>\n",
       "<style scoped>\n",
       "    .dataframe tbody tr th:only-of-type {\n",
       "        vertical-align: middle;\n",
       "    }\n",
       "\n",
       "    .dataframe tbody tr th {\n",
       "        vertical-align: top;\n",
       "    }\n",
       "\n",
       "    .dataframe thead th {\n",
       "        text-align: right;\n",
       "    }\n",
       "</style>\n",
       "<table border=\"1\" class=\"dataframe\">\n",
       "  <thead>\n",
       "    <tr style=\"text-align: right;\">\n",
       "      <th></th>\n",
       "      <th>title</th>\n",
       "      <th>comments</th>\n",
       "      <th>age</th>\n",
       "      <th>thread</th>\n",
       "    </tr>\n",
       "  </thead>\n",
       "  <tbody>\n",
       "    <tr>\n",
       "      <td>0</td>\n",
       "      <td>October 2019 Recommendations, Suggestions, and...</td>\n",
       "      <td>34</td>\n",
       "      <td>33572.022740</td>\n",
       "      <td>rock</td>\n",
       "    </tr>\n",
       "    <tr>\n",
       "      <td>1</td>\n",
       "      <td>NEW RULE: No \"rOcK iS dEaD\"...or \"iS rOcK dEaD...</td>\n",
       "      <td>6</td>\n",
       "      <td>1571.022740</td>\n",
       "      <td>rock</td>\n",
       "    </tr>\n",
       "    <tr>\n",
       "      <td>2</td>\n",
       "      <td>Your Ashes Can Actually Become A Playable Viny...</td>\n",
       "      <td>2</td>\n",
       "      <td>218.689407</td>\n",
       "      <td>rock</td>\n",
       "    </tr>\n",
       "    <tr>\n",
       "      <td>3</td>\n",
       "      <td>Dead Kennedys - Short Songs</td>\n",
       "      <td>1</td>\n",
       "      <td>230.206073</td>\n",
       "      <td>rock</td>\n",
       "    </tr>\n",
       "    <tr>\n",
       "      <td>4</td>\n",
       "      <td>Dio is the Micheal Jackson of Metal change my ...</td>\n",
       "      <td>13</td>\n",
       "      <td>897.806073</td>\n",
       "      <td>rock</td>\n",
       "    </tr>\n",
       "  </tbody>\n",
       "</table>\n",
       "</div>"
      ],
      "text/plain": [
       "                                               title  comments           age  \\\n",
       "0  October 2019 Recommendations, Suggestions, and...        34  33572.022740   \n",
       "1  NEW RULE: No \"rOcK iS dEaD\"...or \"iS rOcK dEaD...         6   1571.022740   \n",
       "2  Your Ashes Can Actually Become A Playable Viny...         2    218.689407   \n",
       "3                        Dead Kennedys - Short Songs         1    230.206073   \n",
       "4  Dio is the Micheal Jackson of Metal change my ...        13    897.806073   \n",
       "\n",
       "  thread  \n",
       "0   rock  \n",
       "1   rock  \n",
       "2   rock  \n",
       "3   rock  \n",
       "4   rock  "
      ]
     },
     "execution_count": 29,
     "metadata": {},
     "output_type": "execute_result"
    }
   ],
   "source": [
    "# Show the first few rows of rock data\n",
    "rock.head()"
   ]
  },
  {
   "cell_type": "code",
   "execution_count": 30,
   "metadata": {},
   "outputs": [
    {
     "data": {
      "text/html": [
       "<div>\n",
       "<style scoped>\n",
       "    .dataframe tbody tr th:only-of-type {\n",
       "        vertical-align: middle;\n",
       "    }\n",
       "\n",
       "    .dataframe tbody tr th {\n",
       "        vertical-align: top;\n",
       "    }\n",
       "\n",
       "    .dataframe thead th {\n",
       "        text-align: right;\n",
       "    }\n",
       "</style>\n",
       "<table border=\"1\" class=\"dataframe\">\n",
       "  <thead>\n",
       "    <tr style=\"text-align: right;\">\n",
       "      <th></th>\n",
       "      <th>title</th>\n",
       "      <th>comments</th>\n",
       "      <th>age</th>\n",
       "      <th>thread</th>\n",
       "    </tr>\n",
       "  </thead>\n",
       "  <tbody>\n",
       "    <tr>\n",
       "      <td>0</td>\n",
       "      <td>How do you define freestyling?</td>\n",
       "      <td>29</td>\n",
       "      <td>658.819073</td>\n",
       "      <td>rap</td>\n",
       "    </tr>\n",
       "    <tr>\n",
       "      <td>1</td>\n",
       "      <td>(FREE) JID x Logic Type Beat - \"Levels\" ft. Jo...</td>\n",
       "      <td>2</td>\n",
       "      <td>655.935739</td>\n",
       "      <td>rap</td>\n",
       "    </tr>\n",
       "    <tr>\n",
       "      <td>2</td>\n",
       "      <td>SmokeMajor - Grime Time</td>\n",
       "      <td>0</td>\n",
       "      <td>75.835739</td>\n",
       "      <td>rap</td>\n",
       "    </tr>\n",
       "    <tr>\n",
       "      <td>3</td>\n",
       "      <td>How to stop slurring words when rapping?</td>\n",
       "      <td>0</td>\n",
       "      <td>83.302406</td>\n",
       "      <td>rap</td>\n",
       "    </tr>\n",
       "    <tr>\n",
       "      <td>4</td>\n",
       "      <td>Emotional Trap Type Beat - Instrumental Rap Sa...</td>\n",
       "      <td>0</td>\n",
       "      <td>329.685739</td>\n",
       "      <td>rap</td>\n",
       "    </tr>\n",
       "  </tbody>\n",
       "</table>\n",
       "</div>"
      ],
      "text/plain": [
       "                                               title  comments         age  \\\n",
       "0                     How do you define freestyling?        29  658.819073   \n",
       "1  (FREE) JID x Logic Type Beat - \"Levels\" ft. Jo...         2  655.935739   \n",
       "2                            SmokeMajor - Grime Time         0   75.835739   \n",
       "3           How to stop slurring words when rapping?         0   83.302406   \n",
       "4  Emotional Trap Type Beat - Instrumental Rap Sa...         0  329.685739   \n",
       "\n",
       "  thread  \n",
       "0    rap  \n",
       "1    rap  \n",
       "2    rap  \n",
       "3    rap  \n",
       "4    rap  "
      ]
     },
     "execution_count": 30,
     "metadata": {},
     "output_type": "execute_result"
    }
   ],
   "source": [
    "# Show the first few rows of rap data\n",
    "rap.head()"
   ]
  },
  {
   "cell_type": "code",
   "execution_count": 31,
   "metadata": {},
   "outputs": [
    {
     "name": "stdout",
     "output_type": "stream",
     "text": [
      "(952, 4)\n",
      "(1000, 4)\n"
     ]
    }
   ],
   "source": [
    "print(rock.shape)\n",
    "print(rap.shape)"
   ]
  },
  {
   "cell_type": "code",
   "execution_count": 32,
   "metadata": {},
   "outputs": [
    {
     "name": "stdout",
     "output_type": "stream",
     "text": [
      "title        object\n",
      "comments      int64\n",
      "age         float64\n",
      "thread       object\n",
      "dtype: object\n",
      "\n",
      "title        object\n",
      "comments      int64\n",
      "age         float64\n",
      "thread       object\n",
      "dtype: object\n"
     ]
    }
   ],
   "source": [
    "print(rock.dtypes)\n",
    "print()\n",
    "print(rap.dtypes)"
   ]
  },
  {
   "cell_type": "markdown",
   "metadata": {},
   "source": [
    "The code below was only ran once; the files 'rock.csv' and 'rap.csv' contain the original data used for this project. The data contained within the above dataframes was only pulled to make sure my code ran with no errors."
   ]
  },
  {
   "cell_type": "code",
   "execution_count": 52,
   "metadata": {},
   "outputs": [],
   "source": [
    "# Create .csv files for two subreddits\n",
    "#rock.to_csv('./data/rock.csv', index=False)\n",
    "#rap.to_csv('./data/rap.csv', index=False)"
   ]
  }
 ],
 "metadata": {
  "kernelspec": {
   "display_name": "Python 3",
   "language": "python",
   "name": "python3"
  },
  "language_info": {
   "codemirror_mode": {
    "name": "ipython",
    "version": 3
   },
   "file_extension": ".py",
   "mimetype": "text/x-python",
   "name": "python",
   "nbconvert_exporter": "python",
   "pygments_lexer": "ipython3",
   "version": "3.7.3"
  }
 },
 "nbformat": 4,
 "nbformat_minor": 2
}
