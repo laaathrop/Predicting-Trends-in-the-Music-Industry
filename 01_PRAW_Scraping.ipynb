{
 "cells": [
  {
   "cell_type": "code",
   "execution_count": 1,
   "metadata": {},
   "outputs": [],
   "source": [
    "# Imports\n",
    "import pandas as pd\n",
    "import requests, json, time, datetime\n",
    "import praw"
   ]
  },
  {
   "cell_type": "code",
   "execution_count": 20,
   "metadata": {},
   "outputs": [],
   "source": [
    "# My Reddit credentials\n",
    "red_creds = {\n",
    "    \n",
    "    'id': 'N/A',\n",
    "    'secret': 'N/A',\n",
    "    'user': 'N/A',\n",
    "    'pass': 'N/A'\n",
    "}"
   ]
  },
  {
   "cell_type": "code",
   "execution_count": 21,
   "metadata": {},
   "outputs": [
    {
     "data": {
      "text/plain": [
       "'{\"id\": \"N/A\", \"secret\": \"N/A\", \"user\": \"N/A\", \"pass\": \"N/A\"}'"
      ]
     },
     "execution_count": 21,
     "metadata": {},
     "output_type": "execute_result"
    }
   ],
   "source": [
    "# Create JSON dictionary from credentials\n",
    "json.dumps(red_creds)"
   ]
  },
  {
   "cell_type": "code",
   "execution_count": 4,
   "metadata": {},
   "outputs": [],
   "source": [
    "# Write credentials to file as a JSON string\n",
    "with open('red_creds.json', 'w+') as file:\n",
    "    file.write(json.dumps(red_creds))"
   ]
  },
  {
   "cell_type": "code",
   "execution_count": 5,
   "metadata": {},
   "outputs": [],
   "source": [
    "# List all files including hidden files\n",
    "#!ls -a"
   ]
  },
  {
   "cell_type": "code",
   "execution_count": 6,
   "metadata": {},
   "outputs": [],
   "source": [
    "# Read credentials from file\n",
    "red_cred_file = open('red_creds.json', 'r')\n",
    "reddit_credentials = json.loads(red_cred_file.read())"
   ]
  },
  {
   "cell_type": "code",
   "execution_count": 7,
   "metadata": {},
   "outputs": [],
   "source": [
    "# Instantiate Reddit class via credentials\n",
    "reddit = praw.Reddit(\n",
    "    \n",
    "    client_id = reddit_credentials['id'],\n",
    "    client_secret = reddit_credentials['secret'],\n",
    "    username = reddit_credentials['user'],\n",
    "    password = reddit_credentials['pass'],\n",
    "    user_agent = 'anthony'\n",
    ")"
   ]
  },
  {
   "cell_type": "code",
   "execution_count": 9,
   "metadata": {},
   "outputs": [],
   "source": [
    "# Returns the age of a post given its post time\n",
    "def age(post_time):\n",
    "    return (time.time() - post_time) / 60"
   ]
  },
  {
   "cell_type": "code",
   "execution_count": 12,
   "metadata": {},
   "outputs": [],
   "source": [
    "# Create a custom function that takes in a string and outputs a dataframe containing 1000 threads\n",
    "def get_batch(name):\n",
    "    \n",
    "    data = reddit.subreddit(name) # Returns a list of posts found in the input subreddit\n",
    "    roof = [i for i in data.hot(limit=1000)] # Constructs a list via list comprehension to hold the first 1000 posts\n",
    "    tip = roof[0] # The first post in the subreddit\n",
    "    \n",
    "    titles = [thread.title for thread in roof]\n",
    "    activity = [thread.num_comments for thread in roof] \n",
    "    ages = [age(thread.created_utc) for thread in roof]\n",
    "    sub_name = [name for thread in roof] \n",
    "    \n",
    "    thread_dict = {\n",
    "        \n",
    "        'title': titles,\n",
    "        'comments': activity,\n",
    "        'age': ages,\n",
    "        'thread': sub_name\n",
    "    }\n",
    "    \n",
    "    return pd.DataFrame(thread_dict)"
   ]
  },
  {
   "cell_type": "code",
   "execution_count": 13,
   "metadata": {},
   "outputs": [],
   "source": [
    "# Create two DataFrames from above function\n",
    "rock = get_batch('rock')\n",
    "rap = get_batch('rap')"
   ]
  },
  {
   "cell_type": "code",
   "execution_count": 14,
   "metadata": {},
   "outputs": [
    {
     "data": {
      "text/html": [
       "<div>\n",
       "<style scoped>\n",
       "    .dataframe tbody tr th:only-of-type {\n",
       "        vertical-align: middle;\n",
       "    }\n",
       "\n",
       "    .dataframe tbody tr th {\n",
       "        vertical-align: top;\n",
       "    }\n",
       "\n",
       "    .dataframe thead th {\n",
       "        text-align: right;\n",
       "    }\n",
       "</style>\n",
       "<table border=\"1\" class=\"dataframe\">\n",
       "  <thead>\n",
       "    <tr style=\"text-align: right;\">\n",
       "      <th></th>\n",
       "      <th>title</th>\n",
       "      <th>comments</th>\n",
       "      <th>age</th>\n",
       "      <th>thread</th>\n",
       "    </tr>\n",
       "  </thead>\n",
       "  <tbody>\n",
       "    <tr>\n",
       "      <td>0</td>\n",
       "      <td>Funkadelic - Maggot Brain</td>\n",
       "      <td>16</td>\n",
       "      <td>841.220417</td>\n",
       "      <td>rock</td>\n",
       "    </tr>\n",
       "    <tr>\n",
       "      <td>1</td>\n",
       "      <td>Motorhead - We Are Motorhead (Live Germany 2004)</td>\n",
       "      <td>0</td>\n",
       "      <td>289.603750</td>\n",
       "      <td>rock</td>\n",
       "    </tr>\n",
       "    <tr>\n",
       "      <td>2</td>\n",
       "      <td>Which bands do you prefer?</td>\n",
       "      <td>5</td>\n",
       "      <td>125.553750</td>\n",
       "      <td>rock</td>\n",
       "    </tr>\n",
       "    <tr>\n",
       "      <td>3</td>\n",
       "      <td>Anyone with a special affinity towards lengthi...</td>\n",
       "      <td>12</td>\n",
       "      <td>654.987084</td>\n",
       "      <td>rock</td>\n",
       "    </tr>\n",
       "    <tr>\n",
       "      <td>4</td>\n",
       "      <td>Jebediah - “Jerks Of Attention” (1997)</td>\n",
       "      <td>0</td>\n",
       "      <td>181.837084</td>\n",
       "      <td>rock</td>\n",
       "    </tr>\n",
       "  </tbody>\n",
       "</table>\n",
       "</div>"
      ],
      "text/plain": [
       "                                               title  comments         age  \\\n",
       "0                          Funkadelic - Maggot Brain        16  841.220417   \n",
       "1   Motorhead - We Are Motorhead (Live Germany 2004)         0  289.603750   \n",
       "2                         Which bands do you prefer?         5  125.553750   \n",
       "3  Anyone with a special affinity towards lengthi...        12  654.987084   \n",
       "4             Jebediah - “Jerks Of Attention” (1997)         0  181.837084   \n",
       "\n",
       "  thread  \n",
       "0   rock  \n",
       "1   rock  \n",
       "2   rock  \n",
       "3   rock  \n",
       "4   rock  "
      ]
     },
     "execution_count": 14,
     "metadata": {},
     "output_type": "execute_result"
    }
   ],
   "source": [
    "# Show the first few rows of rock data\n",
    "rock.head()"
   ]
  },
  {
   "cell_type": "code",
   "execution_count": 15,
   "metadata": {},
   "outputs": [
    {
     "data": {
      "text/html": [
       "<div>\n",
       "<style scoped>\n",
       "    .dataframe tbody tr th:only-of-type {\n",
       "        vertical-align: middle;\n",
       "    }\n",
       "\n",
       "    .dataframe tbody tr th {\n",
       "        vertical-align: top;\n",
       "    }\n",
       "\n",
       "    .dataframe thead th {\n",
       "        text-align: right;\n",
       "    }\n",
       "</style>\n",
       "<table border=\"1\" class=\"dataframe\">\n",
       "  <thead>\n",
       "    <tr style=\"text-align: right;\">\n",
       "      <th></th>\n",
       "      <th>title</th>\n",
       "      <th>comments</th>\n",
       "      <th>age</th>\n",
       "      <th>thread</th>\n",
       "    </tr>\n",
       "  </thead>\n",
       "  <tbody>\n",
       "    <tr>\n",
       "      <td>0</td>\n",
       "      <td>Kodak v. Corona</td>\n",
       "      <td>13</td>\n",
       "      <td>632.171650</td>\n",
       "      <td>rap</td>\n",
       "    </tr>\n",
       "    <tr>\n",
       "      <td>1</td>\n",
       "      <td>Had to put it out there</td>\n",
       "      <td>25</td>\n",
       "      <td>1742.321650</td>\n",
       "      <td>rap</td>\n",
       "    </tr>\n",
       "    <tr>\n",
       "      <td>2</td>\n",
       "      <td>Is this the fastest someone can rap while bein...</td>\n",
       "      <td>0</td>\n",
       "      <td>85.088317</td>\n",
       "      <td>rap</td>\n",
       "    </tr>\n",
       "    <tr>\n",
       "      <td>3</td>\n",
       "      <td>Amazon Echo: Tyga Edition</td>\n",
       "      <td>0</td>\n",
       "      <td>236.021650</td>\n",
       "      <td>rap</td>\n",
       "    </tr>\n",
       "    <tr>\n",
       "      <td>4</td>\n",
       "      <td>I would like to see who would win 20 hits for ...</td>\n",
       "      <td>1</td>\n",
       "      <td>92.321650</td>\n",
       "      <td>rap</td>\n",
       "    </tr>\n",
       "  </tbody>\n",
       "</table>\n",
       "</div>"
      ],
      "text/plain": [
       "                                               title  comments          age  \\\n",
       "0                                    Kodak v. Corona        13   632.171650   \n",
       "1                            Had to put it out there        25  1742.321650   \n",
       "2  Is this the fastest someone can rap while bein...         0    85.088317   \n",
       "3                          Amazon Echo: Tyga Edition         0   236.021650   \n",
       "4  I would like to see who would win 20 hits for ...         1    92.321650   \n",
       "\n",
       "  thread  \n",
       "0    rap  \n",
       "1    rap  \n",
       "2    rap  \n",
       "3    rap  \n",
       "4    rap  "
      ]
     },
     "execution_count": 15,
     "metadata": {},
     "output_type": "execute_result"
    }
   ],
   "source": [
    "# Show the first few rows of rap data\n",
    "rap.head()"
   ]
  },
  {
   "cell_type": "code",
   "execution_count": 18,
   "metadata": {},
   "outputs": [
    {
     "name": "stdout",
     "output_type": "stream",
     "text": [
      "(993, 4)\n",
      "(996, 4)\n"
     ]
    }
   ],
   "source": [
    "# Find the size of each subreddit dataframe\n",
    "print(rock.shape)\n",
    "print(rap.shape)"
   ]
  },
  {
   "cell_type": "code",
   "execution_count": 17,
   "metadata": {},
   "outputs": [
    {
     "name": "stdout",
     "output_type": "stream",
     "text": [
      "title        object\n",
      "comments      int64\n",
      "age         float64\n",
      "thread       object\n",
      "dtype: object\n",
      "\n",
      "title        object\n",
      "comments      int64\n",
      "age         float64\n",
      "thread       object\n",
      "dtype: object\n"
     ]
    }
   ],
   "source": [
    "# Find the data types of each dataframe\n",
    "print(rock.dtypes)\n",
    "print()\n",
    "print(rap.dtypes)"
   ]
  },
  {
   "cell_type": "markdown",
   "metadata": {},
   "source": [
    "The code below was only ran once; the files 'rock.csv' and 'rap.csv' contain the original data used for this project. The data contained within the above dataframes was only pulled to make sure my code ran with no errors."
   ]
  },
  {
   "cell_type": "code",
   "execution_count": 19,
   "metadata": {},
   "outputs": [],
   "source": [
    "# Create .csv files for two subreddits\n",
    "rock.to_csv('./data/rock_round2.csv', index=False)\n",
    "rap.to_csv('./data/rap_round2.csv', index=False)"
   ]
  }
 ],
 "metadata": {
  "kernelspec": {
   "display_name": "Python 3",
   "language": "python",
   "name": "python3"
  },
  "language_info": {
   "codemirror_mode": {
    "name": "ipython",
    "version": 3
   },
   "file_extension": ".py",
   "mimetype": "text/x-python",
   "name": "python",
   "nbconvert_exporter": "python",
   "pygments_lexer": "ipython3",
   "version": "3.7.4"
  }
 },
 "nbformat": 4,
 "nbformat_minor": 2
}
