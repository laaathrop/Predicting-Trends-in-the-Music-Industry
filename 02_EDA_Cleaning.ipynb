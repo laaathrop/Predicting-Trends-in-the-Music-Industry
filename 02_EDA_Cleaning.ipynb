{
 "cells": [
  {
   "cell_type": "code",
   "execution_count": 9,
   "metadata": {},
   "outputs": [],
   "source": [
    "# Imports\n",
    "import pandas as pd\n",
    "from bs4 import BeautifulSoup\n",
    "import regex as re\n",
    "\n",
    "from nltk.tokenize import RegexpTokenizer\n",
    "import nltk as nltk\n",
    "from nltk.corpus import stopwords"
   ]
  },
  {
   "cell_type": "code",
   "execution_count": 14,
   "metadata": {},
   "outputs": [],
   "source": [
    "# Read in data\n",
    "rock = pd.read_csv('./data/rock.csv')\n",
    "rap = pd.read_csv('./data/rap.csv')"
   ]
  },
  {
   "cell_type": "code",
   "execution_count": 15,
   "metadata": {},
   "outputs": [
    {
     "data": {
      "text/plain": [
       "(959, 4)"
      ]
     },
     "execution_count": 15,
     "metadata": {},
     "output_type": "execute_result"
    }
   ],
   "source": [
    "# Get shape of rock dataframe\n",
    "rock.shape"
   ]
  },
  {
   "cell_type": "code",
   "execution_count": 16,
   "metadata": {},
   "outputs": [
    {
     "data": {
      "text/plain": [
       "(999, 4)"
      ]
     },
     "execution_count": 16,
     "metadata": {},
     "output_type": "execute_result"
    }
   ],
   "source": [
    "# Get shape of rap dataframe\n",
    "rap.shape"
   ]
  },
  {
   "cell_type": "code",
   "execution_count": 17,
   "metadata": {},
   "outputs": [
    {
     "data": {
      "text/html": [
       "<div>\n",
       "<style scoped>\n",
       "    .dataframe tbody tr th:only-of-type {\n",
       "        vertical-align: middle;\n",
       "    }\n",
       "\n",
       "    .dataframe tbody tr th {\n",
       "        vertical-align: top;\n",
       "    }\n",
       "\n",
       "    .dataframe thead th {\n",
       "        text-align: right;\n",
       "    }\n",
       "</style>\n",
       "<table border=\"1\" class=\"dataframe\">\n",
       "  <thead>\n",
       "    <tr style=\"text-align: right;\">\n",
       "      <th></th>\n",
       "      <th>title</th>\n",
       "      <th>comments</th>\n",
       "      <th>age</th>\n",
       "      <th>thread</th>\n",
       "    </tr>\n",
       "  </thead>\n",
       "  <tbody>\n",
       "    <tr>\n",
       "      <td>0</td>\n",
       "      <td>October 2019 Recommendations, Suggestions, and...</td>\n",
       "      <td>20</td>\n",
       "      <td>20551.811835</td>\n",
       "      <td>rock</td>\n",
       "    </tr>\n",
       "    <tr>\n",
       "      <td>1</td>\n",
       "      <td>October 2019 Covers Thread</td>\n",
       "      <td>3</td>\n",
       "      <td>20550.578502</td>\n",
       "      <td>rock</td>\n",
       "    </tr>\n",
       "    <tr>\n",
       "      <td>2</td>\n",
       "      <td>Rock Hall of Fame: Notorious B.I.G., Whitney H...</td>\n",
       "      <td>9</td>\n",
       "      <td>580.078502</td>\n",
       "      <td>rock</td>\n",
       "    </tr>\n",
       "    <tr>\n",
       "      <td>3</td>\n",
       "      <td>Pat Benatar - Invincible</td>\n",
       "      <td>0</td>\n",
       "      <td>106.795169</td>\n",
       "      <td>rock</td>\n",
       "    </tr>\n",
       "    <tr>\n",
       "      <td>4</td>\n",
       "      <td>Kate Bush &amp; David Gilmour - Running Up That Hi...</td>\n",
       "      <td>0</td>\n",
       "      <td>544.745169</td>\n",
       "      <td>rock</td>\n",
       "    </tr>\n",
       "  </tbody>\n",
       "</table>\n",
       "</div>"
      ],
      "text/plain": [
       "                                               title  comments           age  \\\n",
       "0  October 2019 Recommendations, Suggestions, and...        20  20551.811835   \n",
       "1                         October 2019 Covers Thread         3  20550.578502   \n",
       "2  Rock Hall of Fame: Notorious B.I.G., Whitney H...         9    580.078502   \n",
       "3                           Pat Benatar - Invincible         0    106.795169   \n",
       "4  Kate Bush & David Gilmour - Running Up That Hi...         0    544.745169   \n",
       "\n",
       "  thread  \n",
       "0   rock  \n",
       "1   rock  \n",
       "2   rock  \n",
       "3   rock  \n",
       "4   rock  "
      ]
     },
     "execution_count": 17,
     "metadata": {},
     "output_type": "execute_result"
    }
   ],
   "source": [
    "# Show first few rows of rock\n",
    "rock.head()"
   ]
  },
  {
   "cell_type": "code",
   "execution_count": 18,
   "metadata": {},
   "outputs": [
    {
     "data": {
      "text/html": [
       "<div>\n",
       "<style scoped>\n",
       "    .dataframe tbody tr th:only-of-type {\n",
       "        vertical-align: middle;\n",
       "    }\n",
       "\n",
       "    .dataframe tbody tr th {\n",
       "        vertical-align: top;\n",
       "    }\n",
       "\n",
       "    .dataframe thead th {\n",
       "        text-align: right;\n",
       "    }\n",
       "</style>\n",
       "<table border=\"1\" class=\"dataframe\">\n",
       "  <thead>\n",
       "    <tr style=\"text-align: right;\">\n",
       "      <th></th>\n",
       "      <th>title</th>\n",
       "      <th>comments</th>\n",
       "      <th>age</th>\n",
       "      <th>thread</th>\n",
       "    </tr>\n",
       "  </thead>\n",
       "  <tbody>\n",
       "    <tr>\n",
       "      <td>0</td>\n",
       "      <td>How does eminem do it in one breath?</td>\n",
       "      <td>45</td>\n",
       "      <td>844.253953</td>\n",
       "      <td>rap</td>\n",
       "    </tr>\n",
       "    <tr>\n",
       "      <td>1</td>\n",
       "      <td>Trrewillz - I Ain't Got Nothin - Inland Empire...</td>\n",
       "      <td>1</td>\n",
       "      <td>161.570620</td>\n",
       "      <td>rap</td>\n",
       "    </tr>\n",
       "    <tr>\n",
       "      <td>2</td>\n",
       "      <td>I need a rapper for this very raw beat I made....</td>\n",
       "      <td>1</td>\n",
       "      <td>163.520620</td>\n",
       "      <td>rap</td>\n",
       "    </tr>\n",
       "    <tr>\n",
       "      <td>3</td>\n",
       "      <td>Rap Bangers?</td>\n",
       "      <td>6</td>\n",
       "      <td>168.570620</td>\n",
       "      <td>rap</td>\n",
       "    </tr>\n",
       "    <tr>\n",
       "      <td>4</td>\n",
       "      <td>One of my favorite verses is J Cole's verse at...</td>\n",
       "      <td>0</td>\n",
       "      <td>153.387287</td>\n",
       "      <td>rap</td>\n",
       "    </tr>\n",
       "  </tbody>\n",
       "</table>\n",
       "</div>"
      ],
      "text/plain": [
       "                                               title  comments         age  \\\n",
       "0               How does eminem do it in one breath?        45  844.253953   \n",
       "1  Trrewillz - I Ain't Got Nothin - Inland Empire...         1  161.570620   \n",
       "2  I need a rapper for this very raw beat I made....         1  163.520620   \n",
       "3                                       Rap Bangers?         6  168.570620   \n",
       "4  One of my favorite verses is J Cole's verse at...         0  153.387287   \n",
       "\n",
       "  thread  \n",
       "0    rap  \n",
       "1    rap  \n",
       "2    rap  \n",
       "3    rap  \n",
       "4    rap  "
      ]
     },
     "execution_count": 18,
     "metadata": {},
     "output_type": "execute_result"
    }
   ],
   "source": [
    "# Show first few rows of rap\n",
    "rap.head()"
   ]
  },
  {
   "cell_type": "code",
   "execution_count": 19,
   "metadata": {},
   "outputs": [],
   "source": [
    "# Custom function that will clean a dataframe column\n",
    "def clean_text_column(df_column):\n",
    "    \n",
    "    words_list = []\n",
    "    \n",
    "    # Remove punctuation and convert to lowercase\n",
    "    df_column = pd.Series([re.sub(\"[^a-zA-Z]\", \" \", BeautifulSoup(text).get_text().lower()) for text in df_column])\n",
    "    \n",
    "    # Instantiate tokenizer\n",
    "    tokenizer = RegexpTokenizer('\\s+', gaps=True)\n",
    "    \n",
    "    # Tokenize each line of the series and append each line (less stopwords) to words_list\n",
    "    for line in df_column:\n",
    "        test = tokenizer.tokenize(line)\n",
    "        words_list.append(' '.join([word for word in test if word not in stopwords.words('english')]))\n",
    "    \n",
    "    # Return the cleaned pandas series\n",
    "    return pd.Series(words_list)"
   ]
  },
  {
   "cell_type": "code",
   "execution_count": 20,
   "metadata": {},
   "outputs": [],
   "source": [
    "# Clean the two columns in question\n",
    "rock_unique_words = clean_text_column(rock['title'])\n",
    "rap_unique_words = clean_text_column(rap['title'])"
   ]
  },
  {
   "cell_type": "code",
   "execution_count": 21,
   "metadata": {},
   "outputs": [
    {
     "data": {
      "text/plain": [
       "0      october recommendations suggestions playlists ...\n",
       "1                                  october covers thread\n",
       "2      rock hall fame notorious b g whitney houston s...\n",
       "3                                 pat benatar invincible\n",
       "4      kate bush david gilmour running hill live secr...\n",
       "                             ...                        \n",
       "954      narcissus paradise johnny john schemin dreamers\n",
       "955                       artist retrospect alex chilton\n",
       "956                       rush limelight moving pictures\n",
       "957                             zz top sharp dressed man\n",
       "958              dirty honey gone acoustic live sdr show\n",
       "Length: 959, dtype: object"
      ]
     },
     "execution_count": 21,
     "metadata": {},
     "output_type": "execute_result"
    }
   ],
   "source": [
    "# Display unique words in rock\n",
    "rock_unique_words"
   ]
  },
  {
   "cell_type": "code",
   "execution_count": 22,
   "metadata": {},
   "outputs": [
    {
     "data": {
      "text/plain": [
       "0                                      eminem one breath\n",
       "1      trrewillz got nothin inland empire rap new rap...\n",
       "2             need rapper raw beat made open suggestions\n",
       "3                                            rap bangers\n",
       "4      one favorite verses j cole verse end logic afr...\n",
       "                             ...                        \n",
       "994                  gretzky big bity bank freestyle rap\n",
       "995                                  pac eminem die soon\n",
       "996    blackbear x bryson tiller x juice wrld type be...\n",
       "997                                        pac overrated\n",
       "998                                    finished playlist\n",
       "Length: 999, dtype: object"
      ]
     },
     "execution_count": 22,
     "metadata": {},
     "output_type": "execute_result"
    }
   ],
   "source": [
    "# Display unique words in rap\n",
    "rap_unique_words"
   ]
  },
  {
   "cell_type": "markdown",
   "metadata": {},
   "source": [
    "Assuming that words occuring most frequently in each subreddit do not also overlap between the two subreddits, this data should be adequate for training a model. Roughly 1000 posts for each subreddit will be used as training data and upn first glance at the unique words these data seem to be unique enough for, at the very least, a human to differentiate between the two subreddits."
   ]
  },
  {
   "cell_type": "code",
   "execution_count": 23,
   "metadata": {},
   "outputs": [
    {
     "name": "stdout",
     "output_type": "stream",
     "text": [
      "0\n",
      "\n",
      "0\n"
     ]
    }
   ],
   "source": [
    "# Check for null values\n",
    "print(rock_unique_words.isnull().sum())\n",
    "print()\n",
    "print(rap_unique_words.isnull().sum())"
   ]
  },
  {
   "cell_type": "code",
   "execution_count": 24,
   "metadata": {},
   "outputs": [
    {
     "name": "stdout",
     "output_type": "stream",
     "text": [
      "object\n",
      "\n",
      "object\n"
     ]
    }
   ],
   "source": [
    "# Check data types\n",
    "print(rock_unique_words.dtypes)\n",
    "print()\n",
    "print(rap_unique_words.dtypes)"
   ]
  },
  {
   "cell_type": "code",
   "execution_count": 26,
   "metadata": {},
   "outputs": [],
   "source": [
    "# Overwrite original thread title words with unique words only\n",
    "rock['title'] = rock_unique_words\n",
    "rap['title'] = rap_unique_words"
   ]
  },
  {
   "cell_type": "code",
   "execution_count": 27,
   "metadata": {},
   "outputs": [
    {
     "data": {
      "text/plain": [
       "0"
      ]
     },
     "execution_count": 27,
     "metadata": {},
     "output_type": "execute_result"
    }
   ],
   "source": [
    "# Null values unexpectedly appeared during the modeling phase; double check their presence here.\n",
    "rock['title'].isnull().sum()"
   ]
  },
  {
   "cell_type": "code",
   "execution_count": 28,
   "metadata": {},
   "outputs": [
    {
     "data": {
      "text/plain": [
       "0"
      ]
     },
     "execution_count": 28,
     "metadata": {},
     "output_type": "execute_result"
    }
   ],
   "source": [
    "# Null values unexpectedly appeared during the modeling phase; double check their presence here.\n",
    "rap['title'].isnull().sum()"
   ]
  },
  {
   "cell_type": "markdown",
   "metadata": {},
   "source": [
    "The code below was only ran once; the files 'rock_clean.csv' and 'rap_clean.csv' contain the original cleaned data used for this project."
   ]
  },
  {
   "cell_type": "code",
   "execution_count": 29,
   "metadata": {},
   "outputs": [],
   "source": [
    "# Create .csv files for two subreddits\n",
    "rock.to_csv('./data/rock_clean.csv', index=False)\n",
    "rap.to_csv('./data/rap_clean.csv', index=False)"
   ]
  }
 ],
 "metadata": {
  "kernelspec": {
   "display_name": "Python 3",
   "language": "python",
   "name": "python3"
  },
  "language_info": {
   "codemirror_mode": {
    "name": "ipython",
    "version": 3
   },
   "file_extension": ".py",
   "mimetype": "text/x-python",
   "name": "python",
   "nbconvert_exporter": "python",
   "pygments_lexer": "ipython3",
   "version": "3.7.3"
  }
 },
 "nbformat": 4,
 "nbformat_minor": 2
}
