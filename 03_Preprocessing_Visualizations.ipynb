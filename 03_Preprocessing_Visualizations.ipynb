{
 "cells": [
  {
   "cell_type": "code",
   "execution_count": 107,
   "metadata": {},
   "outputs": [],
   "source": [
    "# Imports\n",
    "import pandas as pd\n",
    "import seaborn as sns\n",
    "import nltk\n",
    "from nltk.stem import WordNetLemmatizer\n",
    "from nltk.stem.porter import PorterStemmer\n",
    "from sklearn.feature_extraction.text import CountVectorizer"
   ]
  },
  {
   "cell_type": "code",
   "execution_count": 108,
   "metadata": {},
   "outputs": [],
   "source": [
    "# Read in clean data\n",
    "rock_clean = pd.read_csv('./Data/rock_clean.csv')\n",
    "rap_clean = pd.read_csv('./Data/rap_clean.csv')\n",
    "\n",
    "# Read in original data\n",
    "#rock = pd.read_csv('./Data/rock.csv')\n",
    "#rap = pd.read_csv('./Data/rap.csv')"
   ]
  },
  {
   "cell_type": "code",
   "execution_count": 109,
   "metadata": {},
   "outputs": [
    {
     "name": "stdout",
     "output_type": "stream",
     "text": [
      "(959, 4)\n"
     ]
    }
   ],
   "source": [
    "# Get shapes of original and cleaned data\n",
    "print(rock_clean.shape)\n",
    "#print(rock.shape)"
   ]
  },
  {
   "cell_type": "code",
   "execution_count": 110,
   "metadata": {},
   "outputs": [
    {
     "name": "stdout",
     "output_type": "stream",
     "text": [
      "(999, 4)\n"
     ]
    }
   ],
   "source": [
    "# Get the shape of both original and cleaned data\n",
    "print(rap_clean.shape)\n",
    "#print(rap.shape)"
   ]
  },
  {
   "cell_type": "code",
   "execution_count": 111,
   "metadata": {},
   "outputs": [],
   "source": [
    "# Drop null values from the rock dataset\n",
    "rock_clean['title'].dropna(inplace=True)"
   ]
  },
  {
   "cell_type": "code",
   "execution_count": 112,
   "metadata": {},
   "outputs": [
    {
     "data": {
      "text/plain": [
       "0"
      ]
     },
     "execution_count": 112,
     "metadata": {},
     "output_type": "execute_result"
    }
   ],
   "source": [
    "# Get null value counts\n",
    "rock_clean['title'].isnull().sum()"
   ]
  },
  {
   "cell_type": "code",
   "execution_count": 113,
   "metadata": {},
   "outputs": [],
   "source": [
    "# Drop null values from the rap dataset\n",
    "rap_clean['title'].dropna(inplace=True)"
   ]
  },
  {
   "cell_type": "code",
   "execution_count": 114,
   "metadata": {},
   "outputs": [
    {
     "data": {
      "text/plain": [
       "0"
      ]
     },
     "execution_count": 114,
     "metadata": {},
     "output_type": "execute_result"
    }
   ],
   "source": [
    "# Get null value counts\n",
    "rap_clean['title'].isnull().sum()"
   ]
  },
  {
   "cell_type": "code",
   "execution_count": 115,
   "metadata": {},
   "outputs": [
    {
     "data": {
      "text/html": [
       "<div>\n",
       "<style scoped>\n",
       "    .dataframe tbody tr th:only-of-type {\n",
       "        vertical-align: middle;\n",
       "    }\n",
       "\n",
       "    .dataframe tbody tr th {\n",
       "        vertical-align: top;\n",
       "    }\n",
       "\n",
       "    .dataframe thead th {\n",
       "        text-align: right;\n",
       "    }\n",
       "</style>\n",
       "<table border=\"1\" class=\"dataframe\">\n",
       "  <thead>\n",
       "    <tr style=\"text-align: right;\">\n",
       "      <th></th>\n",
       "      <th>title</th>\n",
       "      <th>comments</th>\n",
       "      <th>age</th>\n",
       "      <th>thread</th>\n",
       "    </tr>\n",
       "  </thead>\n",
       "  <tbody>\n",
       "    <tr>\n",
       "      <td>0</td>\n",
       "      <td>eminem one breath</td>\n",
       "      <td>45</td>\n",
       "      <td>844.253953</td>\n",
       "      <td>rap</td>\n",
       "    </tr>\n",
       "    <tr>\n",
       "      <td>1</td>\n",
       "      <td>trrewillz got nothin inland empire rap new rap...</td>\n",
       "      <td>1</td>\n",
       "      <td>161.570620</td>\n",
       "      <td>rap</td>\n",
       "    </tr>\n",
       "    <tr>\n",
       "      <td>2</td>\n",
       "      <td>need rapper raw beat made open suggestions</td>\n",
       "      <td>1</td>\n",
       "      <td>163.520620</td>\n",
       "      <td>rap</td>\n",
       "    </tr>\n",
       "    <tr>\n",
       "      <td>3</td>\n",
       "      <td>rap bangers</td>\n",
       "      <td>6</td>\n",
       "      <td>168.570620</td>\n",
       "      <td>rap</td>\n",
       "    </tr>\n",
       "    <tr>\n",
       "      <td>4</td>\n",
       "      <td>one favorite verses j cole verse end logic afr...</td>\n",
       "      <td>0</td>\n",
       "      <td>153.387287</td>\n",
       "      <td>rap</td>\n",
       "    </tr>\n",
       "    <tr>\n",
       "      <td>...</td>\n",
       "      <td>...</td>\n",
       "      <td>...</td>\n",
       "      <td>...</td>\n",
       "      <td>...</td>\n",
       "    </tr>\n",
       "    <tr>\n",
       "      <td>994</td>\n",
       "      <td>gretzky big bity bank freestyle rap</td>\n",
       "      <td>0</td>\n",
       "      <td>22525.487287</td>\n",
       "      <td>rap</td>\n",
       "    </tr>\n",
       "    <tr>\n",
       "      <td>995</td>\n",
       "      <td>pac eminem die soon</td>\n",
       "      <td>0</td>\n",
       "      <td>22659.670620</td>\n",
       "      <td>rap</td>\n",
       "    </tr>\n",
       "    <tr>\n",
       "      <td>996</td>\n",
       "      <td>blackbear x bryson tiller x juice wrld type be...</td>\n",
       "      <td>3</td>\n",
       "      <td>22917.453953</td>\n",
       "      <td>rap</td>\n",
       "    </tr>\n",
       "    <tr>\n",
       "      <td>997</td>\n",
       "      <td>pac overrated</td>\n",
       "      <td>27</td>\n",
       "      <td>22765.820620</td>\n",
       "      <td>rap</td>\n",
       "    </tr>\n",
       "    <tr>\n",
       "      <td>998</td>\n",
       "      <td>finished playlist</td>\n",
       "      <td>0</td>\n",
       "      <td>22800.020620</td>\n",
       "      <td>rap</td>\n",
       "    </tr>\n",
       "  </tbody>\n",
       "</table>\n",
       "<p>999 rows × 4 columns</p>\n",
       "</div>"
      ],
      "text/plain": [
       "                                                 title  comments  \\\n",
       "0                                    eminem one breath        45   \n",
       "1    trrewillz got nothin inland empire rap new rap...         1   \n",
       "2           need rapper raw beat made open suggestions         1   \n",
       "3                                          rap bangers         6   \n",
       "4    one favorite verses j cole verse end logic afr...         0   \n",
       "..                                                 ...       ...   \n",
       "994                gretzky big bity bank freestyle rap         0   \n",
       "995                                pac eminem die soon         0   \n",
       "996  blackbear x bryson tiller x juice wrld type be...         3   \n",
       "997                                      pac overrated        27   \n",
       "998                                  finished playlist         0   \n",
       "\n",
       "              age thread  \n",
       "0      844.253953    rap  \n",
       "1      161.570620    rap  \n",
       "2      163.520620    rap  \n",
       "3      168.570620    rap  \n",
       "4      153.387287    rap  \n",
       "..            ...    ...  \n",
       "994  22525.487287    rap  \n",
       "995  22659.670620    rap  \n",
       "996  22917.453953    rap  \n",
       "997  22765.820620    rap  \n",
       "998  22800.020620    rap  \n",
       "\n",
       "[999 rows x 4 columns]"
      ]
     },
     "execution_count": 115,
     "metadata": {},
     "output_type": "execute_result"
    }
   ],
   "source": [
    "rap_clean"
   ]
  },
  {
   "cell_type": "code",
   "execution_count": 116,
   "metadata": {},
   "outputs": [],
   "source": [
    "# Define function to find and visualize the most common words within thread titles\n",
    "def plot_common_words(column):\n",
    "    \n",
    "    cv = CountVectorizer(stop_words='english')\n",
    "    words = cv.fit_transform(column)\n",
    "    df_words = pd.DataFrame(words.toarray(), columns=cv.get_feature_names())\n",
    "    df_common = pd.DataFrame(df_words.sum().sort_values(ascending=False).head(10))\n",
    "    df_common.rename(columns={0: 'Count'}, inplace=True)\n",
    "    \n",
    "    ax = sns.barplot(df_common.index, df_common['Count']);\n",
    "    ax.set(xlabel='Word', ylabel='Word Count')"
   ]
  },
  {
   "cell_type": "code",
   "execution_count": 117,
   "metadata": {},
   "outputs": [
    {
     "data": {
      "image/png": "[encoded data removed]",
      "text/plain": [
       "<Figure size 432x288 with 1 Axes>"
      ]
     },
     "metadata": {
      "needs_background": "light"
     },
     "output_type": "display_data"
    }
   ],
   "source": [
    "# Visualize the most common unique words in rock\n",
    "plot_common_words(rock_clean['title'])"
   ]
  },
  {
   "cell_type": "code",
   "execution_count": 118,
   "metadata": {},
   "outputs": [
    {
     "data": {
      "image/png": "[encoded data removed]",
      "text/plain": [
       "<Figure size 432x288 with 1 Axes>"
      ]
     },
     "metadata": {
      "needs_background": "light"
     },
     "output_type": "display_data"
    }
   ],
   "source": [
    "# Visualize the most common unique words in rap\n",
    "plot_common_words(rap_clean['title'])"
   ]
  },
  {
   "cell_type": "code",
   "execution_count": 119,
   "metadata": {},
   "outputs": [],
   "source": [
    "# Concatenate the two dataframes prior to model development\n",
    "df = pd.concat([rock_clean, rap_clean], axis=0)"
   ]
  },
  {
   "cell_type": "code",
   "execution_count": 120,
   "metadata": {},
   "outputs": [],
   "source": [
    "# Reassign rock to 1 and rap to 0 prior to binary classification\n",
    "df['thread'] = df['thread'].map(lambda x: 1 if x == 'rock' else 0)"
   ]
  },
  {
   "cell_type": "markdown",
   "metadata": {},
   "source": [
    "The data contained in the DataFrame below is going to be used to train a model in order to classify subreddit posts by name. This is a binary classification problem so I used 1 to represent rock and 0 to represent rap."
   ]
  },
  {
   "cell_type": "code",
   "execution_count": 121,
   "metadata": {},
   "outputs": [
    {
     "data": {
      "text/html": [
       "<div>\n",
       "<style scoped>\n",
       "    .dataframe tbody tr th:only-of-type {\n",
       "        vertical-align: middle;\n",
       "    }\n",
       "\n",
       "    .dataframe tbody tr th {\n",
       "        vertical-align: top;\n",
       "    }\n",
       "\n",
       "    .dataframe thead th {\n",
       "        text-align: right;\n",
       "    }\n",
       "</style>\n",
       "<table border=\"1\" class=\"dataframe\">\n",
       "  <thead>\n",
       "    <tr style=\"text-align: right;\">\n",
       "      <th></th>\n",
       "      <th>title</th>\n",
       "      <th>comments</th>\n",
       "      <th>age</th>\n",
       "      <th>thread</th>\n",
       "    </tr>\n",
       "  </thead>\n",
       "  <tbody>\n",
       "    <tr>\n",
       "      <td>0</td>\n",
       "      <td>october recommendations suggestions playlists ...</td>\n",
       "      <td>20</td>\n",
       "      <td>20551.811835</td>\n",
       "      <td>1</td>\n",
       "    </tr>\n",
       "    <tr>\n",
       "      <td>1</td>\n",
       "      <td>october covers thread</td>\n",
       "      <td>3</td>\n",
       "      <td>20550.578502</td>\n",
       "      <td>1</td>\n",
       "    </tr>\n",
       "    <tr>\n",
       "      <td>2</td>\n",
       "      <td>rock hall fame notorious b g whitney houston s...</td>\n",
       "      <td>9</td>\n",
       "      <td>580.078502</td>\n",
       "      <td>1</td>\n",
       "    </tr>\n",
       "    <tr>\n",
       "      <td>3</td>\n",
       "      <td>pat benatar invincible</td>\n",
       "      <td>0</td>\n",
       "      <td>106.795169</td>\n",
       "      <td>1</td>\n",
       "    </tr>\n",
       "    <tr>\n",
       "      <td>4</td>\n",
       "      <td>kate bush david gilmour running hill live secr...</td>\n",
       "      <td>0</td>\n",
       "      <td>544.745169</td>\n",
       "      <td>1</td>\n",
       "    </tr>\n",
       "  </tbody>\n",
       "</table>\n",
       "</div>"
      ],
      "text/plain": [
       "                                               title  comments           age  \\\n",
       "0  october recommendations suggestions playlists ...        20  20551.811835   \n",
       "1                              october covers thread         3  20550.578502   \n",
       "2  rock hall fame notorious b g whitney houston s...         9    580.078502   \n",
       "3                             pat benatar invincible         0    106.795169   \n",
       "4  kate bush david gilmour running hill live secr...         0    544.745169   \n",
       "\n",
       "   thread  \n",
       "0       1  \n",
       "1       1  \n",
       "2       1  \n",
       "3       1  \n",
       "4       1  "
      ]
     },
     "execution_count": 121,
     "metadata": {},
     "output_type": "execute_result"
    }
   ],
   "source": [
    "df.head()"
   ]
  },
  {
   "cell_type": "code",
   "execution_count": 122,
   "metadata": {},
   "outputs": [
    {
     "data": {
      "text/plain": [
       "(1958, 4)"
      ]
     },
     "execution_count": 122,
     "metadata": {},
     "output_type": "execute_result"
    }
   ],
   "source": [
    "df.shape"
   ]
  },
  {
   "cell_type": "markdown",
   "metadata": {},
   "source": [
    "The code below was only ran once; the file train.csv contains the original data used for model development."
   ]
  },
  {
   "cell_type": "code",
   "execution_count": 123,
   "metadata": {},
   "outputs": [],
   "source": [
    "# Create .csv file containing training data for the model\n",
    "df.to_csv('./Data/train.csv', index=False)"
   ]
  }
 ],
 "metadata": {
  "kernelspec": {
   "display_name": "Python 3",
   "language": "python",
   "name": "python3"
  },
  "language_info": {
   "codemirror_mode": {
    "name": "ipython",
    "version": 3
   },
   "file_extension": ".py",
   "mimetype": "text/x-python",
   "name": "python",
   "nbconvert_exporter": "python",
   "pygments_lexer": "ipython3",
   "version": "3.7.3"
  }
 },
 "nbformat": 4,
 "nbformat_minor": 2
}
