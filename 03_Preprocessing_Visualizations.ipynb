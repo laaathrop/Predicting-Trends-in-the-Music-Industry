{
 "cells": [
  {
   "cell_type": "code",
   "execution_count": 1,
   "metadata": {},
   "outputs": [],
   "source": [
    "# Imports\n",
    "import pandas as pd\n",
    "import seaborn as sns\n",
    "import nltk\n",
    "from nltk.stem import WordNetLemmatizer\n",
    "from nltk.stem.porter import PorterStemmer\n",
    "from sklearn.feature_extraction.text import CountVectorizer"
   ]
  },
  {
   "cell_type": "code",
   "execution_count": 3,
   "metadata": {},
   "outputs": [],
   "source": [
    "# Read clean data into Pandas dataframes\n",
    "rock_clean = pd.read_csv('./Data/rock_clean_round2.csv')\n",
    "rap_clean = pd.read_csv('./Data/rap_clean_round2.csv')\n",
    "\n",
    "# Read in original data\n",
    "rock = pd.read_csv('./Data/rock_round2.csv')\n",
    "rap = pd.read_csv('./Data/rap_round2.csv')"
   ]
  },
  {
   "cell_type": "code",
   "execution_count": 4,
   "metadata": {},
   "outputs": [
    {
     "name": "stdout",
     "output_type": "stream",
     "text": [
      "(993, 4)\n",
      "(993, 4)\n"
     ]
    }
   ],
   "source": [
    "# Get shapes of original and cleaned data\n",
    "print(rock_clean.shape)\n",
    "print(rock.shape)"
   ]
  },
  {
   "cell_type": "code",
   "execution_count": 5,
   "metadata": {},
   "outputs": [
    {
     "name": "stdout",
     "output_type": "stream",
     "text": [
      "(996, 4)\n",
      "(996, 4)\n"
     ]
    }
   ],
   "source": [
    "# Get the shape of both original and cleaned data\n",
    "print(rap_clean.shape)\n",
    "print(rap.shape)"
   ]
  },
  {
   "cell_type": "code",
   "execution_count": 13,
   "metadata": {},
   "outputs": [],
   "source": [
    "# Drop null values from the rock dataset\n",
    "rock_clean['title'].dropna(inplace=True)"
   ]
  },
  {
   "cell_type": "code",
   "execution_count": 14,
   "metadata": {},
   "outputs": [
    {
     "data": {
      "text/plain": [
       "0"
      ]
     },
     "execution_count": 14,
     "metadata": {},
     "output_type": "execute_result"
    }
   ],
   "source": [
    "# Get null value counts\n",
    "rock_clean['title'].isnull().sum()"
   ]
  },
  {
   "cell_type": "code",
   "execution_count": 16,
   "metadata": {},
   "outputs": [],
   "source": [
    "# Drop null values from the rap dataset\n",
    "rap_clean['title'].dropna(inplace=True)"
   ]
  },
  {
   "cell_type": "code",
   "execution_count": 17,
   "metadata": {},
   "outputs": [
    {
     "data": {
      "text/plain": [
       "0"
      ]
     },
     "execution_count": 17,
     "metadata": {},
     "output_type": "execute_result"
    }
   ],
   "source": [
    "# Get null value counts\n",
    "rap_clean['title'].isnull().sum()"
   ]
  },
  {
   "cell_type": "code",
   "execution_count": 18,
   "metadata": {},
   "outputs": [
    {
     "data": {
      "text/html": [
       "<div>\n",
       "<style scoped>\n",
       "    .dataframe tbody tr th:only-of-type {\n",
       "        vertical-align: middle;\n",
       "    }\n",
       "\n",
       "    .dataframe tbody tr th {\n",
       "        vertical-align: top;\n",
       "    }\n",
       "\n",
       "    .dataframe thead th {\n",
       "        text-align: right;\n",
       "    }\n",
       "</style>\n",
       "<table border=\"1\" class=\"dataframe\">\n",
       "  <thead>\n",
       "    <tr style=\"text-align: right;\">\n",
       "      <th></th>\n",
       "      <th>title</th>\n",
       "      <th>comments</th>\n",
       "      <th>age</th>\n",
       "      <th>thread</th>\n",
       "    </tr>\n",
       "  </thead>\n",
       "  <tbody>\n",
       "    <tr>\n",
       "      <td>0</td>\n",
       "      <td>kodak v corona</td>\n",
       "      <td>13</td>\n",
       "      <td>632.171650</td>\n",
       "      <td>rap</td>\n",
       "    </tr>\n",
       "    <tr>\n",
       "      <td>1</td>\n",
       "      <td>put</td>\n",
       "      <td>25</td>\n",
       "      <td>1742.321650</td>\n",
       "      <td>rap</td>\n",
       "    </tr>\n",
       "    <tr>\n",
       "      <td>2</td>\n",
       "      <td>fastest someone rap able understand every word</td>\n",
       "      <td>0</td>\n",
       "      <td>85.088317</td>\n",
       "      <td>rap</td>\n",
       "    </tr>\n",
       "    <tr>\n",
       "      <td>3</td>\n",
       "      <td>amazon echo tyga edition</td>\n",
       "      <td>0</td>\n",
       "      <td>236.021650</td>\n",
       "      <td>rap</td>\n",
       "    </tr>\n",
       "    <tr>\n",
       "      <td>4</td>\n",
       "      <td>would like see would win hits hits yall got</td>\n",
       "      <td>1</td>\n",
       "      <td>92.321650</td>\n",
       "      <td>rap</td>\n",
       "    </tr>\n",
       "    <tr>\n",
       "      <td>...</td>\n",
       "      <td>...</td>\n",
       "      <td>...</td>\n",
       "      <td>...</td>\n",
       "      <td>...</td>\n",
       "    </tr>\n",
       "    <tr>\n",
       "      <td>991</td>\n",
       "      <td>looking vinyl gift please help</td>\n",
       "      <td>0</td>\n",
       "      <td>11782.554984</td>\n",
       "      <td>rap</td>\n",
       "    </tr>\n",
       "    <tr>\n",
       "      <td>992</td>\n",
       "      <td>found guy youtube</td>\n",
       "      <td>0</td>\n",
       "      <td>11783.121650</td>\n",
       "      <td>rap</td>\n",
       "    </tr>\n",
       "    <tr>\n",
       "      <td>993</td>\n",
       "      <td>dame dash reclaiming throne</td>\n",
       "      <td>0</td>\n",
       "      <td>11787.071650</td>\n",
       "      <td>rap</td>\n",
       "    </tr>\n",
       "    <tr>\n",
       "      <td>994</td>\n",
       "      <td>made new song maybe want hear</td>\n",
       "      <td>0</td>\n",
       "      <td>11787.338317</td>\n",
       "      <td>rap</td>\n",
       "    </tr>\n",
       "    <tr>\n",
       "      <td>995</td>\n",
       "      <td>new playlist original concept</td>\n",
       "      <td>0</td>\n",
       "      <td>11808.454984</td>\n",
       "      <td>rap</td>\n",
       "    </tr>\n",
       "  </tbody>\n",
       "</table>\n",
       "<p>996 rows × 4 columns</p>\n",
       "</div>"
      ],
      "text/plain": [
       "                                              title  comments           age  \\\n",
       "0                                    kodak v corona        13    632.171650   \n",
       "1                                               put        25   1742.321650   \n",
       "2    fastest someone rap able understand every word         0     85.088317   \n",
       "3                          amazon echo tyga edition         0    236.021650   \n",
       "4       would like see would win hits hits yall got         1     92.321650   \n",
       "..                                              ...       ...           ...   \n",
       "991                  looking vinyl gift please help         0  11782.554984   \n",
       "992                               found guy youtube         0  11783.121650   \n",
       "993                     dame dash reclaiming throne         0  11787.071650   \n",
       "994                   made new song maybe want hear         0  11787.338317   \n",
       "995                   new playlist original concept         0  11808.454984   \n",
       "\n",
       "    thread  \n",
       "0      rap  \n",
       "1      rap  \n",
       "2      rap  \n",
       "3      rap  \n",
       "4      rap  \n",
       "..     ...  \n",
       "991    rap  \n",
       "992    rap  \n",
       "993    rap  \n",
       "994    rap  \n",
       "995    rap  \n",
       "\n",
       "[996 rows x 4 columns]"
      ]
     },
     "execution_count": 18,
     "metadata": {},
     "output_type": "execute_result"
    }
   ],
   "source": [
    "rap_clean"
   ]
  },
  {
   "cell_type": "code",
   "execution_count": 19,
   "metadata": {},
   "outputs": [],
   "source": [
    "# Define function to find and visualize the most common words within thread titles\n",
    "def plot_common_words(column):\n",
    "    \n",
    "    cv = CountVectorizer(stop_words='english')\n",
    "    words = cv.fit_transform(column)\n",
    "    df_words = pd.DataFrame(words.toarray(), columns=cv.get_feature_names())\n",
    "    df_common = pd.DataFrame(df_words.sum().sort_values(ascending=False).head(10))\n",
    "    df_common.rename(columns={0: 'Count'}, inplace=True)\n",
    "    \n",
    "    ax = sns.barplot(df_common.index, df_common['Count']);\n",
    "    ax.set(xlabel='Word', ylabel='Word Count')"
   ]
  },
  {
   "cell_type": "code",
   "execution_count": 20,
   "metadata": {},
   "outputs": [
    {
     "data": {
      "image/png": "[encoded data removed]",
      "text/plain": [
       "<Figure size 432x288 with 1 Axes>"
      ]
     },
     "metadata": {
      "needs_background": "light"
     },
     "output_type": "display_data"
    }
   ],
   "source": [
    "# Visualize the most common unique words in rock\n",
    "plot_common_words(rock_clean['title'])"
   ]
  },
  {
   "cell_type": "code",
   "execution_count": 21,
   "metadata": {},
   "outputs": [
    {
     "data": {
      "image/png": "[encoded data removed]",
      "text/plain": [
       "<Figure size 432x288 with 1 Axes>"
      ]
     },
     "metadata": {
      "needs_background": "light"
     },
     "output_type": "display_data"
    }
   ],
   "source": [
    "# Visualize the most common unique words in rap\n",
    "plot_common_words(rap_clean['title'])"
   ]
  },
  {
   "cell_type": "code",
   "execution_count": 22,
   "metadata": {},
   "outputs": [],
   "source": [
    "# Concatenate the two dataframes prior to model development\n",
    "df = pd.concat([rock_clean, rap_clean], axis=0)"
   ]
  },
  {
   "cell_type": "code",
   "execution_count": 26,
   "metadata": {},
   "outputs": [],
   "source": [
    "# Reassign rock to 1 and rap to 0 prior to binary classification\n",
    "df['thread'] = df['thread'].map(lambda x: 1 if x == 'rock' else 0)"
   ]
  },
  {
   "cell_type": "markdown",
   "metadata": {},
   "source": [
    "The data contained in the DataFrame below is going to be used to train a model in order to classify subreddit posts by name. This is a binary classification problem so I used 1 to represent rock and 0 to represent rap."
   ]
  },
  {
   "cell_type": "code",
   "execution_count": 27,
   "metadata": {},
   "outputs": [
    {
     "data": {
      "text/html": [
       "<div>\n",
       "<style scoped>\n",
       "    .dataframe tbody tr th:only-of-type {\n",
       "        vertical-align: middle;\n",
       "    }\n",
       "\n",
       "    .dataframe tbody tr th {\n",
       "        vertical-align: top;\n",
       "    }\n",
       "\n",
       "    .dataframe thead th {\n",
       "        text-align: right;\n",
       "    }\n",
       "</style>\n",
       "<table border=\"1\" class=\"dataframe\">\n",
       "  <thead>\n",
       "    <tr style=\"text-align: right;\">\n",
       "      <th></th>\n",
       "      <th>title</th>\n",
       "      <th>comments</th>\n",
       "      <th>age</th>\n",
       "      <th>thread</th>\n",
       "    </tr>\n",
       "  </thead>\n",
       "  <tbody>\n",
       "    <tr>\n",
       "      <td>0</td>\n",
       "      <td>funkadelic maggot brain</td>\n",
       "      <td>16</td>\n",
       "      <td>841.220417</td>\n",
       "      <td>1</td>\n",
       "    </tr>\n",
       "    <tr>\n",
       "      <td>1</td>\n",
       "      <td>motorhead motorhead live germany</td>\n",
       "      <td>0</td>\n",
       "      <td>289.603750</td>\n",
       "      <td>1</td>\n",
       "    </tr>\n",
       "    <tr>\n",
       "      <td>2</td>\n",
       "      <td>bands prefer</td>\n",
       "      <td>5</td>\n",
       "      <td>125.553750</td>\n",
       "      <td>1</td>\n",
       "    </tr>\n",
       "    <tr>\n",
       "      <td>3</td>\n",
       "      <td>anyone special affinity towards lengthier songs</td>\n",
       "      <td>12</td>\n",
       "      <td>654.987084</td>\n",
       "      <td>1</td>\n",
       "    </tr>\n",
       "    <tr>\n",
       "      <td>4</td>\n",
       "      <td>jebediah jerks attention</td>\n",
       "      <td>0</td>\n",
       "      <td>181.837084</td>\n",
       "      <td>1</td>\n",
       "    </tr>\n",
       "  </tbody>\n",
       "</table>\n",
       "</div>"
      ],
      "text/plain": [
       "                                             title  comments         age  \\\n",
       "0                          funkadelic maggot brain        16  841.220417   \n",
       "1                 motorhead motorhead live germany         0  289.603750   \n",
       "2                                     bands prefer         5  125.553750   \n",
       "3  anyone special affinity towards lengthier songs        12  654.987084   \n",
       "4                         jebediah jerks attention         0  181.837084   \n",
       "\n",
       "   thread  \n",
       "0       1  \n",
       "1       1  \n",
       "2       1  \n",
       "3       1  \n",
       "4       1  "
      ]
     },
     "execution_count": 27,
     "metadata": {},
     "output_type": "execute_result"
    }
   ],
   "source": [
    "# Show the first 5 rows\n",
    "df.head()"
   ]
  },
  {
   "cell_type": "code",
   "execution_count": 28,
   "metadata": {},
   "outputs": [
    {
     "data": {
      "text/plain": [
       "(1989, 4)"
      ]
     },
     "execution_count": 28,
     "metadata": {},
     "output_type": "execute_result"
    }
   ],
   "source": [
    "# Find the shape of the new combined text dataframe\n",
    "df.shape"
   ]
  },
  {
   "cell_type": "markdown",
   "metadata": {},
   "source": [
    "The code below was only ran once; the file train.csv contains the original data used for model development."
   ]
  },
  {
   "cell_type": "code",
   "execution_count": 29,
   "metadata": {},
   "outputs": [],
   "source": [
    "# Create .csv file containing training data for the model\n",
    "df.to_csv('./Data/train_round2.csv', index=False)"
   ]
  }
 ],
 "metadata": {
  "kernelspec": {
   "display_name": "Python 3",
   "language": "python",
   "name": "python3"
  },
  "language_info": {
   "codemirror_mode": {
    "name": "ipython",
    "version": 3
   },
   "file_extension": ".py",
   "mimetype": "text/x-python",
   "name": "python",
   "nbconvert_exporter": "python",
   "pygments_lexer": "ipython3",
   "version": "3.7.4"
  }
 },
 "nbformat": 4,
 "nbformat_minor": 2
}
