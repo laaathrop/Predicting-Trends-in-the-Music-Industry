{
 "cells": [
  {
   "cell_type": "code",
   "execution_count": 2,
   "metadata": {},
   "outputs": [],
   "source": [
    "# Imports\n",
    "\n",
    "import pandas as pd\n",
    "import requests, json, time, datetime\n",
    "\n",
    "import praw"
   ]
  },
  {
   "cell_type": "code",
   "execution_count": 3,
   "metadata": {},
   "outputs": [],
   "source": [
    "# My Reddit credentials\n",
    "red_creds = {\n",
    "    \n",
    "    'id': 'EE3gLvAWeX8VIg',\n",
    "    'secret': 'TlnAE1i9zbf9Oj53AdSX4vb--XM',\n",
    "    'user': 'BlazingTony',\n",
    "    'pass': 'UltraMiami45!'\n",
    "}"
   ]
  },
  {
   "cell_type": "code",
   "execution_count": 4,
   "metadata": {},
   "outputs": [
    {
     "data": {
      "text/plain": [
       "'{\"id\": \"EE3gLvAWeX8VIg\", \"secret\": \"TlnAE1i9zbf9Oj53AdSX4vb--XM\", \"user\": \"BlazingTony\", \"pass\": \"UltraMiami45!\"}'"
      ]
     },
     "execution_count": 4,
     "metadata": {},
     "output_type": "execute_result"
    }
   ],
   "source": [
    "# Create JSON string from credentials\n",
    "\n",
    "json.dumps(red_creds)"
   ]
  },
  {
   "cell_type": "code",
   "execution_count": 5,
   "metadata": {},
   "outputs": [],
   "source": [
    "# Write credentials to file as a JSON string\n",
    "\n",
    "with open('red_creds.json', 'w+') as file:\n",
    "    file.write(json.dumps(red_creds))"
   ]
  },
  {
   "cell_type": "code",
   "execution_count": 6,
   "metadata": {},
   "outputs": [
    {
     "name": "stdout",
     "output_type": "stream",
     "text": [
      ".\n",
      "..\n",
      ".git\n",
      ".gitignore\n",
      ".ipynb_checkpoints\n",
      "01_PRAW_Scraping.ipynb\n",
      "creds.json\n",
      "README.md\n",
      "red_creds.json\n",
      "Requirements.txt\n"
     ]
    }
   ],
   "source": [
    "!ls -a"
   ]
  },
  {
   "cell_type": "code",
   "execution_count": 7,
   "metadata": {},
   "outputs": [],
   "source": [
    "# 60 pulls per second\n",
    "# 20 - 25 submissions each time"
   ]
  },
  {
   "cell_type": "code",
   "execution_count": 8,
   "metadata": {},
   "outputs": [],
   "source": [
    "# Read credentials from file\n",
    "red_cred_file = open('red_creds.json', 'r')\n",
    "reddit_credentials = json.loads(red_cred_file.read())"
   ]
  },
  {
   "cell_type": "code",
   "execution_count": 9,
   "metadata": {},
   "outputs": [],
   "source": [
    "# Instantiate Reddit class via credentials\n",
    "reddit = praw.Reddit(\n",
    "    \n",
    "    client_id = reddit_credentials['id'],\n",
    "    client_secret = reddit_credentials['secret'],\n",
    "    username = reddit_credentials['user'],\n",
    "    password = reddit_credentials['pass'],\n",
    "    user_agent = 'anthony'\n",
    ")"
   ]
  },
  {
   "cell_type": "code",
   "execution_count": 16,
   "metadata": {},
   "outputs": [],
   "source": [
    "# Create variables for each subreddit\n",
    "hiphop = reddit.subreddit('hiphop')\n",
    "rock = reddit.subreddit('rock')"
   ]
  },
  {
   "cell_type": "code",
   "execution_count": 31,
   "metadata": {},
   "outputs": [],
   "source": [
    "# Create list of top submissions for each subreddit\n",
    "hiphop_roof = [ i for i in hiphop.hot(limit=20) ]\n",
    "rock_roof = [ i for i in rock.hot(limit=20) ]"
   ]
  },
  {
   "cell_type": "code",
   "execution_count": 32,
   "metadata": {},
   "outputs": [],
   "source": [
    "# Get most recent submission for each subreddit\n",
    "hiphop_top = hiphop_roof[0]\n",
    "rock_top = rock_roof[0]"
   ]
  },
  {
   "cell_type": "code",
   "execution_count": 33,
   "metadata": {},
   "outputs": [
    {
     "name": "stdout",
     "output_type": "stream",
     "text": [
      "20\n",
      "20\n"
     ]
    }
   ],
   "source": [
    "# Get length of each list of submissions\n",
    "print(len(hiphop_roof))\n",
    "print(len(rock_roof))"
   ]
  },
  {
   "cell_type": "code",
   "execution_count": 43,
   "metadata": {},
   "outputs": [
    {
     "data": {
      "text/plain": [
       "1536864714.0"
      ]
     },
     "execution_count": 43,
     "metadata": {},
     "output_type": "execute_result"
    }
   ],
   "source": [
    "# Timestamp of top post in the hiphop subreddit\n",
    "time;\n",
    "hiphop_top.created_utc"
   ]
  },
  {
   "cell_type": "code",
   "execution_count": 46,
   "metadata": {},
   "outputs": [
    {
     "data": {
      "text/plain": [
       "<function __main__.age(post_time)>"
      ]
     },
     "execution_count": 46,
     "metadata": {},
     "output_type": "execute_result"
    }
   ],
   "source": [
    "# Adapted from PRAW lecture\n",
    "def age(post_time):\n",
    "    return (time.time() - post_time) / 60\n",
    "\n",
    "age"
   ]
  },
  {
   "cell_type": "code",
   "execution_count": 53,
   "metadata": {},
   "outputs": [],
   "source": [
    "titles = [thread.title for thread in hiphop_roof]\n",
    "comments = [thread.num_comments for thread in hiphop_roof] \n",
    "ages = [age(thread.created_utc) for thread in hiphop_roof]\n",
    "sub_name = ['hiphop' for thread in hiphop_roof] "
   ]
  },
  {
   "cell_type": "code",
   "execution_count": 55,
   "metadata": {},
   "outputs": [],
   "source": [
    "thread = {\n",
    "    \n",
    "    'title': titles,\n",
    "    'comments': comments,\n",
    "    'age': ages,\n",
    "    'thread': sub_name\n",
    "}"
   ]
  },
  {
   "cell_type": "code",
   "execution_count": 58,
   "metadata": {},
   "outputs": [
    {
     "data": {
      "text/html": [
       "<div>\n",
       "<style scoped>\n",
       "    .dataframe tbody tr th:only-of-type {\n",
       "        vertical-align: middle;\n",
       "    }\n",
       "\n",
       "    .dataframe tbody tr th {\n",
       "        vertical-align: top;\n",
       "    }\n",
       "\n",
       "    .dataframe thead th {\n",
       "        text-align: right;\n",
       "    }\n",
       "</style>\n",
       "<table border=\"1\" class=\"dataframe\">\n",
       "  <thead>\n",
       "    <tr style=\"text-align: right;\">\n",
       "      <th></th>\n",
       "      <th>title</th>\n",
       "      <th>comments</th>\n",
       "      <th>age</th>\n",
       "      <th>thread</th>\n",
       "    </tr>\n",
       "  </thead>\n",
       "  <tbody>\n",
       "    <tr>\n",
       "      <td>0</td>\n",
       "      <td>r/HipHop has now an dedicated Spotify playlist...</td>\n",
       "      <td>32</td>\n",
       "      <td>565036.726381</td>\n",
       "      <td>hiphop</td>\n",
       "    </tr>\n",
       "    <tr>\n",
       "      <td>1</td>\n",
       "      <td>The Luniz - I Got Five On It Remix</td>\n",
       "      <td>2</td>\n",
       "      <td>690.776381</td>\n",
       "      <td>hiphop</td>\n",
       "    </tr>\n",
       "    <tr>\n",
       "      <td>2</td>\n",
       "      <td>Kill Bill x Rav - Solar Flare [full album]</td>\n",
       "      <td>0</td>\n",
       "      <td>150.176381</td>\n",
       "      <td>hiphop</td>\n",
       "    </tr>\n",
       "    <tr>\n",
       "      <td>3</td>\n",
       "      <td>Musiq - Just Friends</td>\n",
       "      <td>0</td>\n",
       "      <td>220.059715</td>\n",
       "      <td>hiphop</td>\n",
       "    </tr>\n",
       "    <tr>\n",
       "      <td>4</td>\n",
       "      <td>Lil Boosie ft. Webbie &amp; Pimp C - Fuck You (2006)</td>\n",
       "      <td>0</td>\n",
       "      <td>103.909715</td>\n",
       "      <td>hiphop</td>\n",
       "    </tr>\n",
       "  </tbody>\n",
       "</table>\n",
       "</div>"
      ],
      "text/plain": [
       "                                               title  comments            age  \\\n",
       "0  r/HipHop has now an dedicated Spotify playlist...        32  565036.726381   \n",
       "1                 The Luniz - I Got Five On It Remix         2     690.776381   \n",
       "2         Kill Bill x Rav - Solar Flare [full album]         0     150.176381   \n",
       "3                               Musiq - Just Friends         0     220.059715   \n",
       "4   Lil Boosie ft. Webbie & Pimp C - Fuck You (2006)         0     103.909715   \n",
       "\n",
       "   thread  \n",
       "0  hiphop  \n",
       "1  hiphop  \n",
       "2  hiphop  \n",
       "3  hiphop  \n",
       "4  hiphop  "
      ]
     },
     "execution_count": 58,
     "metadata": {},
     "output_type": "execute_result"
    }
   ],
   "source": [
    "df_hiphop = pd.DataFrame(thread)\n",
    "df_hiphop.head()"
   ]
  },
  {
   "cell_type": "code",
   "execution_count": 60,
   "metadata": {},
   "outputs": [
    {
     "data": {
      "text/html": [
       "<div>\n",
       "<style scoped>\n",
       "    .dataframe tbody tr th:only-of-type {\n",
       "        vertical-align: middle;\n",
       "    }\n",
       "\n",
       "    .dataframe tbody tr th {\n",
       "        vertical-align: top;\n",
       "    }\n",
       "\n",
       "    .dataframe thead th {\n",
       "        text-align: right;\n",
       "    }\n",
       "</style>\n",
       "<table border=\"1\" class=\"dataframe\">\n",
       "  <thead>\n",
       "    <tr style=\"text-align: right;\">\n",
       "      <th></th>\n",
       "      <th>title</th>\n",
       "      <th>comments</th>\n",
       "      <th>age</th>\n",
       "      <th>thread</th>\n",
       "    </tr>\n",
       "  </thead>\n",
       "  <tbody>\n",
       "    <tr>\n",
       "      <td>0</td>\n",
       "      <td>r/HipHop has now an dedicated Spotify playlist...</td>\n",
       "      <td>32</td>\n",
       "      <td>565036.726381</td>\n",
       "      <td>hiphop</td>\n",
       "    </tr>\n",
       "    <tr>\n",
       "      <td>1</td>\n",
       "      <td>The Luniz - I Got Five On It Remix</td>\n",
       "      <td>2</td>\n",
       "      <td>690.776381</td>\n",
       "      <td>hiphop</td>\n",
       "    </tr>\n",
       "    <tr>\n",
       "      <td>2</td>\n",
       "      <td>Kill Bill x Rav - Solar Flare [full album]</td>\n",
       "      <td>0</td>\n",
       "      <td>150.176381</td>\n",
       "      <td>hiphop</td>\n",
       "    </tr>\n",
       "    <tr>\n",
       "      <td>3</td>\n",
       "      <td>Musiq - Just Friends</td>\n",
       "      <td>0</td>\n",
       "      <td>220.059715</td>\n",
       "      <td>hiphop</td>\n",
       "    </tr>\n",
       "    <tr>\n",
       "      <td>4</td>\n",
       "      <td>Lil Boosie ft. Webbie &amp; Pimp C - Fuck You (2006)</td>\n",
       "      <td>0</td>\n",
       "      <td>103.909715</td>\n",
       "      <td>hiphop</td>\n",
       "    </tr>\n",
       "  </tbody>\n",
       "</table>\n",
       "</div>"
      ],
      "text/plain": [
       "                                               title  comments            age  \\\n",
       "0  r/HipHop has now an dedicated Spotify playlist...        32  565036.726381   \n",
       "1                 The Luniz - I Got Five On It Remix         2     690.776381   \n",
       "2         Kill Bill x Rav - Solar Flare [full album]         0     150.176381   \n",
       "3                               Musiq - Just Friends         0     220.059715   \n",
       "4   Lil Boosie ft. Webbie & Pimp C - Fuck You (2006)         0     103.909715   \n",
       "\n",
       "   thread  \n",
       "0  hiphop  \n",
       "1  hiphop  \n",
       "2  hiphop  \n",
       "3  hiphop  \n",
       "4  hiphop  "
      ]
     },
     "execution_count": 60,
     "metadata": {},
     "output_type": "execute_result"
    }
   ],
   "source": [
    "df_rock = pd.DataFrame(thread)\n",
    "df_rock.head()"
   ]
  },
  {
   "cell_type": "code",
   "execution_count": null,
   "metadata": {},
   "outputs": [],
   "source": [
    "# Create a function that takes in a string and outputs a dataframe containing 50 threads"
   ]
  }
 ],
 "metadata": {
  "kernelspec": {
   "display_name": "Python 3",
   "language": "python",
   "name": "python3"
  },
  "language_info": {
   "codemirror_mode": {
    "name": "ipython",
    "version": 3
   },
   "file_extension": ".py",
   "mimetype": "text/x-python",
   "name": "python",
   "nbconvert_exporter": "python",
   "pygments_lexer": "ipython3",
   "version": "3.7.3"
  }
 },
 "nbformat": 4,
 "nbformat_minor": 2
}
