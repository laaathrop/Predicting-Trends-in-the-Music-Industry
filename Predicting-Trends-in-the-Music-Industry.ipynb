{
 "cells": [
  {
   "cell_type": "markdown",
   "metadata": {},
   "source": [
    "### 1. Scraping Subreddits with PRAW"
   ]
  },
  {
   "cell_type": "code",
   "execution_count": null,
   "metadata": {},
   "outputs": [],
   "source": [
    "# Imports\n",
    "\n",
    "import pandas as pd\n",
    "import seaborn as sns\n",
    "import requests, json, time, datetime\n",
    "import praw\n",
    "\n",
    "from bs4 import BeautifulSoup\n",
    "import regex as re\n",
    "\n",
    "from nltk.tokenize import RegexpTokenizer\n",
    "import nltk as nltk\n",
    "from nltk.corpus import stopwords\n",
    "from nltk.stem import WordNetLemmatizer\n",
    "from nltk.stem.porter import PorterStemmer\n",
    "\n",
    "from sklearn.pipeline import Pipeline\n",
    "from sklearn.model_selection import train_test_split, GridSearchCV\n",
    "from sklearn.feature_extraction.text import CountVectorizer, TfidfVectorizer\n",
    "from sklearn.linear_model import LogisticRegression\n",
    "from sklearn.naive_bayes import BernoulliNB, MultinomialNB"
   ]
  },
  {
   "cell_type": "code",
   "execution_count": 2,
   "metadata": {},
   "outputs": [],
   "source": [
    "# Dictionary to store Reddit crendentials\n",
    "cred_dict = {\n",
    "    \n",
    "    'id': 'N/A',\n",
    "    'secret': 'N/A',\n",
    "    'user': 'N/A',\n",
    "    'pass': 'N/A'\n",
    "}"
   ]
  },
  {
   "cell_type": "code",
   "execution_count": null,
   "metadata": {},
   "outputs": [],
   "source": [
    "# Serialize the credential dictionary to a dictionary of json formatted strings\n",
    "#cred_json = json.dumps(cred_dict)"
   ]
  },
  {
   "cell_type": "code",
   "execution_count": null,
   "metadata": {},
   "outputs": [],
   "source": [
    "# Write credentials to file as json\n",
    "#with open('red_creds.json', 'w+') as file:\n",
    "    #file.write(cred_json)"
   ]
  },
  {
   "cell_type": "code",
   "execution_count": 3,
   "metadata": {},
   "outputs": [],
   "source": [
    "# Read the credentials back in from the file\n",
    "cred_file = open('red_creds.json', 'r')"
   ]
  },
  {
   "cell_type": "code",
   "execution_count": 5,
   "metadata": {},
   "outputs": [],
   "source": [
    "# Deserialize json to a Python object\n",
    "access_creds = json.loads(cred_file.read())"
   ]
  },
  {
   "cell_type": "code",
   "execution_count": 8,
   "metadata": {},
   "outputs": [],
   "source": [
    "# Instantiate Reddit class via credentials\n",
    "reddit = praw.Reddit(\n",
    "    \n",
    "    client_id = access_creds['id'],\n",
    "    client_secret = access_creds['secret'],\n",
    "    username = access_creds['user'],\n",
    "    password = access_creds['pass'],\n",
    "    user_agent = 'DSI'\n",
    "    \n",
    ")"
   ]
  },
  {
   "cell_type": "code",
   "execution_count": 9,
   "metadata": {},
   "outputs": [],
   "source": [
    "# Define a function to calculate the age of a post\n",
    "def age(post_time):\n",
    "    return (time.time() - post_time) / 60"
   ]
  },
  {
   "cell_type": "code",
   "execution_count": 10,
   "metadata": {},
   "outputs": [],
   "source": [
    "# Define a function that will retrieve a batch of Reddit posts\n",
    "def get_batch(name):\n",
    "    \n",
    "    # Returns a subreddit object for the corresponding input subreddit name\n",
    "    data = reddit.subreddit(name)\n",
    "    \n",
    "    # Construct a list to hold the first 1000 posts\n",
    "    roof = [i for i in data.hot(limit=1000)]\n",
    "    \n",
    "    # Create list to hold reddit post titles\n",
    "    titles = [beam.title for beam in roof] \n",
    "    \n",
    "    # Create list to hold the number of comments left on each post\n",
    "    activity = [beam.num_comments for beam in roof] \n",
    "    \n",
    "    # Create list to hold the calculated age of each post\n",
    "    ages = [age(beam.created_utc) for beam in roof]\n",
    "    \n",
    "    # Create a list to hold each posts corresponding subreddit name\n",
    "    sub_name = [name for beam in roof]\n",
    "    \n",
    "    # Construct a dictionary to hold the information above\n",
    "    thread_dict = {\n",
    "        \n",
    "        'title': titles,\n",
    "        'comments': activity,\n",
    "        'age': ages,\n",
    "        'thread': sub_name\n",
    "    }\n",
    "    \n",
    "    # Convert to Pandas DataFrame and return\n",
    "    return pd.DataFrame(thread_dict)"
   ]
  },
  {
   "cell_type": "code",
   "execution_count": 11,
   "metadata": {},
   "outputs": [],
   "source": [
    "# Create a DataFrame for each of the two genres\n",
    "rock = get_batch('rock')\n",
    "rap = get_batch('rap')"
   ]
  },
  {
   "cell_type": "markdown",
   "metadata": {},
   "source": [
    "### 2. EDA and Data Cleaning"
   ]
  },
  {
   "cell_type": "code",
   "execution_count": 12,
   "metadata": {},
   "outputs": [
    {
     "data": {
      "text/html": [
       "<div>\n",
       "<style scoped>\n",
       "    .dataframe tbody tr th:only-of-type {\n",
       "        vertical-align: middle;\n",
       "    }\n",
       "\n",
       "    .dataframe tbody tr th {\n",
       "        vertical-align: top;\n",
       "    }\n",
       "\n",
       "    .dataframe thead th {\n",
       "        text-align: right;\n",
       "    }\n",
       "</style>\n",
       "<table border=\"1\" class=\"dataframe\">\n",
       "  <thead>\n",
       "    <tr style=\"text-align: right;\">\n",
       "      <th></th>\n",
       "      <th>title</th>\n",
       "      <th>comments</th>\n",
       "      <th>age</th>\n",
       "      <th>thread</th>\n",
       "    </tr>\n",
       "  </thead>\n",
       "  <tbody>\n",
       "    <tr>\n",
       "      <th>0</th>\n",
       "      <td>AC/DC - Realize (Official Audio)</td>\n",
       "      <td>4</td>\n",
       "      <td>357.322690</td>\n",
       "      <td>rock</td>\n",
       "    </tr>\n",
       "    <tr>\n",
       "      <th>1</th>\n",
       "      <td>AC/DC Releases New Single ‘Realize’ From ‘Powe...</td>\n",
       "      <td>0</td>\n",
       "      <td>192.622690</td>\n",
       "      <td>rock</td>\n",
       "    </tr>\n",
       "    <tr>\n",
       "      <th>2</th>\n",
       "      <td>After teasing us for years with #tpr4 The Pret...</td>\n",
       "      <td>0</td>\n",
       "      <td>252.506023</td>\n",
       "      <td>rock</td>\n",
       "    </tr>\n",
       "    <tr>\n",
       "      <th>3</th>\n",
       "      <td>GEEZER BUTLER Rules Out More BLACK SABBATH Sho...</td>\n",
       "      <td>2</td>\n",
       "      <td>799.522690</td>\n",
       "      <td>rock</td>\n",
       "    </tr>\n",
       "    <tr>\n",
       "      <th>4</th>\n",
       "      <td>Black Sabbath - War Pigs (1974 California Jam)</td>\n",
       "      <td>5</td>\n",
       "      <td>1207.289356</td>\n",
       "      <td>rock</td>\n",
       "    </tr>\n",
       "    <tr>\n",
       "      <th>5</th>\n",
       "      <td>Lunatic Band - Breathe (Official Music Video)</td>\n",
       "      <td>0</td>\n",
       "      <td>146.706023</td>\n",
       "      <td>rock</td>\n",
       "    </tr>\n",
       "    <tr>\n",
       "      <th>6</th>\n",
       "      <td>Name your Top 5 Rock Bands and why</td>\n",
       "      <td>4</td>\n",
       "      <td>284.406023</td>\n",
       "      <td>rock</td>\n",
       "    </tr>\n",
       "    <tr>\n",
       "      <th>7</th>\n",
       "      <td>KISS’s PAUL STANLEY Writes A Touching Message ...</td>\n",
       "      <td>0</td>\n",
       "      <td>215.306023</td>\n",
       "      <td>rock</td>\n",
       "    </tr>\n",
       "    <tr>\n",
       "      <th>8</th>\n",
       "      <td>Do you know these spanish guys?</td>\n",
       "      <td>0</td>\n",
       "      <td>221.706023</td>\n",
       "      <td>rock</td>\n",
       "    </tr>\n",
       "    <tr>\n",
       "      <th>9</th>\n",
       "      <td>Patty Smyth Talks Comeback, Unsupervised Freed...</td>\n",
       "      <td>0</td>\n",
       "      <td>16.872690</td>\n",
       "      <td>rock</td>\n",
       "    </tr>\n",
       "  </tbody>\n",
       "</table>\n",
       "</div>"
      ],
      "text/plain": [
       "                                               title  comments          age  \\\n",
       "0                   AC/DC - Realize (Official Audio)         4   357.322690   \n",
       "1  AC/DC Releases New Single ‘Realize’ From ‘Powe...         0   192.622690   \n",
       "2  After teasing us for years with #tpr4 The Pret...         0   252.506023   \n",
       "3  GEEZER BUTLER Rules Out More BLACK SABBATH Sho...         2   799.522690   \n",
       "4     Black Sabbath - War Pigs (1974 California Jam)         5  1207.289356   \n",
       "5      Lunatic Band - Breathe (Official Music Video)         0   146.706023   \n",
       "6                 Name your Top 5 Rock Bands and why         4   284.406023   \n",
       "7  KISS’s PAUL STANLEY Writes A Touching Message ...         0   215.306023   \n",
       "8                    Do you know these spanish guys?         0   221.706023   \n",
       "9  Patty Smyth Talks Comeback, Unsupervised Freed...         0    16.872690   \n",
       "\n",
       "  thread  \n",
       "0   rock  \n",
       "1   rock  \n",
       "2   rock  \n",
       "3   rock  \n",
       "4   rock  \n",
       "5   rock  \n",
       "6   rock  \n",
       "7   rock  \n",
       "8   rock  \n",
       "9   rock  "
      ]
     },
     "execution_count": 12,
     "metadata": {},
     "output_type": "execute_result"
    }
   ],
   "source": [
    "rock.head(10) # Show the first 10 rows of rock data"
   ]
  },
  {
   "cell_type": "code",
   "execution_count": 13,
   "metadata": {},
   "outputs": [
    {
     "data": {
      "text/html": [
       "<div>\n",
       "<style scoped>\n",
       "    .dataframe tbody tr th:only-of-type {\n",
       "        vertical-align: middle;\n",
       "    }\n",
       "\n",
       "    .dataframe tbody tr th {\n",
       "        vertical-align: top;\n",
       "    }\n",
       "\n",
       "    .dataframe thead th {\n",
       "        text-align: right;\n",
       "    }\n",
       "</style>\n",
       "<table border=\"1\" class=\"dataframe\">\n",
       "  <thead>\n",
       "    <tr style=\"text-align: right;\">\n",
       "      <th></th>\n",
       "      <th>title</th>\n",
       "      <th>comments</th>\n",
       "      <th>age</th>\n",
       "      <th>thread</th>\n",
       "    </tr>\n",
       "  </thead>\n",
       "  <tbody>\n",
       "    <tr>\n",
       "      <th>0</th>\n",
       "      <td>Travis tweaking</td>\n",
       "      <td>3</td>\n",
       "      <td>852.454124</td>\n",
       "      <td>rap</td>\n",
       "    </tr>\n",
       "    <tr>\n",
       "      <th>1</th>\n",
       "      <td>My painting of Tupac...original has already so...</td>\n",
       "      <td>12</td>\n",
       "      <td>1432.787457</td>\n",
       "      <td>rap</td>\n",
       "    </tr>\n",
       "    <tr>\n",
       "      <th>2</th>\n",
       "      <td>Fbz</td>\n",
       "      <td>0</td>\n",
       "      <td>40.437457</td>\n",
       "      <td>rap</td>\n",
       "    </tr>\n",
       "    <tr>\n",
       "      <th>3</th>\n",
       "      <td>MO3 Officially Confirmed Passed (Boosie Artist)</td>\n",
       "      <td>0</td>\n",
       "      <td>45.304124</td>\n",
       "      <td>rap</td>\n",
       "    </tr>\n",
       "    <tr>\n",
       "      <th>4</th>\n",
       "      <td>I'm new to rapping, where can I get some feedb...</td>\n",
       "      <td>10</td>\n",
       "      <td>212.037457</td>\n",
       "      <td>rap</td>\n",
       "    </tr>\n",
       "    <tr>\n",
       "      <th>5</th>\n",
       "      <td>Moe 3 dead (close friend confirms) rip moe 3</td>\n",
       "      <td>1</td>\n",
       "      <td>105.087457</td>\n",
       "      <td>rap</td>\n",
       "    </tr>\n",
       "    <tr>\n",
       "      <th>6</th>\n",
       "      <td>this is a comment i found underneath a mac mil...</td>\n",
       "      <td>2</td>\n",
       "      <td>534.620791</td>\n",
       "      <td>rap</td>\n",
       "    </tr>\n",
       "    <tr>\n",
       "      <th>7</th>\n",
       "      <td>Rapper Moe3 Shot On Freeway In Dallas</td>\n",
       "      <td>0</td>\n",
       "      <td>119.204124</td>\n",
       "      <td>rap</td>\n",
       "    </tr>\n",
       "    <tr>\n",
       "      <th>8</th>\n",
       "      <td>[free] travis scott rodeo type beat ~ \"divided\"</td>\n",
       "      <td>0</td>\n",
       "      <td>7.254124</td>\n",
       "      <td>rap</td>\n",
       "    </tr>\n",
       "    <tr>\n",
       "      <th>9</th>\n",
       "      <td>Rapper MO3 Reported Shot</td>\n",
       "      <td>4</td>\n",
       "      <td>143.370791</td>\n",
       "      <td>rap</td>\n",
       "    </tr>\n",
       "  </tbody>\n",
       "</table>\n",
       "</div>"
      ],
      "text/plain": [
       "                                               title  comments          age  \\\n",
       "0                                    Travis tweaking         3   852.454124   \n",
       "1  My painting of Tupac...original has already so...        12  1432.787457   \n",
       "2                                                Fbz         0    40.437457   \n",
       "3    MO3 Officially Confirmed Passed (Boosie Artist)         0    45.304124   \n",
       "4  I'm new to rapping, where can I get some feedb...        10   212.037457   \n",
       "5       Moe 3 dead (close friend confirms) rip moe 3         1   105.087457   \n",
       "6  this is a comment i found underneath a mac mil...         2   534.620791   \n",
       "7              Rapper Moe3 Shot On Freeway In Dallas         0   119.204124   \n",
       "8    [free] travis scott rodeo type beat ~ \"divided\"         0     7.254124   \n",
       "9                           Rapper MO3 Reported Shot         4   143.370791   \n",
       "\n",
       "  thread  \n",
       "0    rap  \n",
       "1    rap  \n",
       "2    rap  \n",
       "3    rap  \n",
       "4    rap  \n",
       "5    rap  \n",
       "6    rap  \n",
       "7    rap  \n",
       "8    rap  \n",
       "9    rap  "
      ]
     },
     "execution_count": 13,
     "metadata": {},
     "output_type": "execute_result"
    }
   ],
   "source": [
    "rap.head(10) # Show the first 10 rows of rap data"
   ]
  },
  {
   "cell_type": "code",
   "execution_count": 14,
   "metadata": {},
   "outputs": [
    {
     "name": "stdout",
     "output_type": "stream",
     "text": [
      "Rock Shape: (999, 4)\n",
      "Shape Shape: (997, 4)\n"
     ]
    }
   ],
   "source": [
    "# Display DataFrame shapes\n",
    "print('Rock Shape: ' + str(rock.shape))\n",
    "print('Shape Shape: ' + str(rap.shape))"
   ]
  },
  {
   "cell_type": "code",
   "execution_count": 18,
   "metadata": {},
   "outputs": [
    {
     "name": "stdout",
     "output_type": "stream",
     "text": [
      "Rock Subreddit Data Types\n",
      "\n",
      "title        object\n",
      "comments      int64\n",
      "age         float64\n",
      "thread       object\n",
      "dtype: object\n",
      "\n",
      "Rap Subreddit Data Types\n",
      "\n",
      "title        object\n",
      "comments      int64\n",
      "age         float64\n",
      "thread       object\n",
      "dtype: object\n"
     ]
    }
   ],
   "source": [
    "# Display DataFrame column data types\n",
    "print('Rock Subreddit Data Types\\n\\n' + str(rock.dtypes))\n",
    "print()\n",
    "print('Rap Subreddit Data Types\\n\\n' + str(rap.dtypes))"
   ]
  },
  {
   "cell_type": "code",
   "execution_count": 19,
   "metadata": {},
   "outputs": [
    {
     "name": "stdout",
     "output_type": "stream",
     "text": [
      "Rock Data Type Counts: \n",
      "\n",
      "object     2\n",
      "float64    1\n",
      "int64      1\n",
      "dtype: int64\n",
      "\n",
      "Rap Data Type Counts: \n",
      "\n",
      "object     2\n",
      "float64    1\n",
      "int64      1\n",
      "dtype: int64\n"
     ]
    }
   ],
   "source": [
    "# Display value counts for each of the data types\n",
    "print('Rock Data Type Counts: \\n\\n' + str(rock.dtypes.value_counts()))\n",
    "print()\n",
    "print('Rap Data Type Counts: \\n\\n' + str(rap.dtypes.value_counts()))"
   ]
  },
  {
   "cell_type": "code",
   "execution_count": 20,
   "metadata": {},
   "outputs": [
    {
     "name": "stdout",
     "output_type": "stream",
     "text": [
      "Rock Null Counts: \n",
      "\n",
      "0    4\n",
      "dtype: int64\n",
      "\n",
      "Rap Null Counts: \n",
      "\n",
      "0    4\n",
      "dtype: int64\n"
     ]
    }
   ],
   "source": [
    "# Get null value counts\n",
    "print('Rock Null Counts: \\n\\n' + str(rock.isnull().sum().value_counts()))\n",
    "print()\n",
    "print('Rap Null Counts: \\n\\n' + str(rap.isnull().sum().value_counts()))"
   ]
  },
  {
   "cell_type": "code",
   "execution_count": 21,
   "metadata": {},
   "outputs": [
    {
     "name": "stderr",
     "output_type": "stream",
     "text": [
      "[nltk_data] Downloading package stopwords to\n",
      "[nltk_data]     C:\\Users\\Antho\\AppData\\Roaming\\nltk_data...\n",
      "[nltk_data]   Package stopwords is already up-to-date!\n"
     ]
    },
    {
     "data": {
      "text/plain": [
       "True"
      ]
     },
     "execution_count": 21,
     "metadata": {},
     "output_type": "execute_result"
    }
   ],
   "source": [
    "# Download NLTK stopwords\n",
    "nltk.download('stopwords')"
   ]
  },
  {
   "cell_type": "code",
   "execution_count": 23,
   "metadata": {},
   "outputs": [],
   "source": [
    "# Define a custom function that will clean a DataFrame column\n",
    "def clean_text_column(column):\n",
    "    \n",
    "    # Define a list that will contain words in a column of subreddit titles\n",
    "    words_list = [] \n",
    "    \n",
    "    # Clean out punctuation and lowercase letters\n",
    "    cleaned_column = [re.sub(\"[^a-zA-Z]\", \" \", BeautifulSoup(text).get_text().lower()) for text in column]\n",
    "    \n",
    "    # Convert to Pandas series\n",
    "    column = pd.Series(cleaned_column)\n",
    "    \n",
    "    # Instantiate tokenizer\n",
    "    tokenizer = RegexpTokenizer('\\s+', gaps=True)\n",
    "    \n",
    "    # For each line of text in the column\n",
    "    for line in column:\n",
    "        \n",
    "        # Tokenize the line\n",
    "        test = tokenizer.tokenize(line)\n",
    "        \n",
    "        # Append all words not belonging to the group of English stopwords\n",
    "        words_list.append(' '.join([word for word in test if word not in stopwords.words('english')]))\n",
    "    \n",
    "    # Return the cleaned column as a Pandas series\n",
    "    return pd.Series(words_list)"
   ]
  },
  {
   "cell_type": "code",
   "execution_count": 42,
   "metadata": {},
   "outputs": [
    {
     "name": "stderr",
     "output_type": "stream",
     "text": [
      "C:\\Users\\Antho\\Anaconda3\\lib\\site-packages\\bs4\\__init__.py:357: UserWarning: \"https://music.youtube.com/watch?v=dRuRKirloQ8&feature=share\" looks like a URL. Beautiful Soup is not an HTTP client. You should probably use an HTTP client like requests to get the document behind the URL, and feed that document to Beautiful Soup.\n",
      "  ' that document to Beautiful Soup.' % decoded_markup\n",
      "C:\\Users\\Antho\\Anaconda3\\lib\\site-packages\\bs4\\__init__.py:357: UserWarning: \"https://youtu.be/95dDXq9OV90\" looks like a URL. Beautiful Soup is not an HTTP client. You should probably use an HTTP client like requests to get the document behind the URL, and feed that document to Beautiful Soup.\n",
      "  ' that document to Beautiful Soup.' % decoded_markup\n",
      "C:\\Users\\Antho\\Anaconda3\\lib\\site-packages\\bs4\\__init__.py:357: UserWarning: \"https://open.spotify.com/track/60GHfoC62OUZRnNuyeBgcP?si=d1-_lHDPSR2-t762afrnRg\" looks like a URL. Beautiful Soup is not an HTTP client. You should probably use an HTTP client like requests to get the document behind the URL, and feed that document to Beautiful Soup.\n",
      "  ' that document to Beautiful Soup.' % decoded_markup\n"
     ]
    }
   ],
   "source": [
    "# Clean the two columns in question\n",
    "rock_unique = clean_text_column(rock['title'])\n",
    "rap_unique = clean_text_column(rap['title'])"
   ]
  },
  {
   "cell_type": "code",
   "execution_count": 43,
   "metadata": {},
   "outputs": [
    {
     "data": {
      "text/plain": [
       "0                         ac dc realize official audio\n",
       "1              ac dc releases new single realize power\n",
       "2    teasing us years tpr pretty reckless announced...\n",
       "3    geezer butler rules black sabbath shows says b...\n",
       "4                black sabbath war pigs california jam\n",
       "5            lunatic band breathe official music video\n",
       "6                                  name top rock bands\n",
       "7    kiss paul stanley writes touching message make...\n",
       "8                                    know spanish guys\n",
       "9    patty smyth talks comeback unsupervised freedo...\n",
       "dtype: object"
      ]
     },
     "execution_count": 43,
     "metadata": {},
     "output_type": "execute_result"
    }
   ],
   "source": [
    "rock_unique.head(10) # Show the first 10 cleaned rows of rock data"
   ]
  },
  {
   "cell_type": "code",
   "execution_count": 44,
   "metadata": {},
   "outputs": [
    {
     "data": {
      "text/plain": [
       "0                                      travis tweaking\n",
       "1    painting tupac original already sold still art...\n",
       "2                                                  fbz\n",
       "3         mo officially confirmed passed boosie artist\n",
       "4                             new rapping get feedback\n",
       "5               moe dead close friend confirms rip moe\n",
       "6            comment found underneath mac miller video\n",
       "7                       rapper moe shot freeway dallas\n",
       "8            free travis scott rodeo type beat divided\n",
       "9                              rapper mo reported shot\n",
       "dtype: object"
      ]
     },
     "execution_count": 44,
     "metadata": {},
     "output_type": "execute_result"
    }
   ],
   "source": [
    "rap_unique.head(10) # Show the first 10 cleaned rows of rap data"
   ]
  },
  {
   "cell_type": "code",
   "execution_count": 45,
   "metadata": {},
   "outputs": [
    {
     "name": "stdout",
     "output_type": "stream",
     "text": [
      "Rock Null Counts: \n",
      "\n",
      "0\n",
      "\n",
      "Rap Null Counts: \n",
      "\n",
      "0\n"
     ]
    }
   ],
   "source": [
    "# Get null value counts after cleaning\n",
    "print('Rock Null Counts: \\n\\n' + str(rock_unique.isnull().sum()))\n",
    "print()\n",
    "print('Rap Null Counts: \\n\\n' + str(rap_unique.isnull().sum()))"
   ]
  },
  {
   "cell_type": "code",
   "execution_count": 53,
   "metadata": {},
   "outputs": [],
   "source": [
    "# Replace original titles with cleaned titles\n",
    "rock['title'] = rock_unique\n",
    "rap['title'] = rap_unique"
   ]
  },
  {
   "cell_type": "code",
   "execution_count": 57,
   "metadata": {},
   "outputs": [
    {
     "data": {
      "text/html": [
       "<div>\n",
       "<style scoped>\n",
       "    .dataframe tbody tr th:only-of-type {\n",
       "        vertical-align: middle;\n",
       "    }\n",
       "\n",
       "    .dataframe tbody tr th {\n",
       "        vertical-align: top;\n",
       "    }\n",
       "\n",
       "    .dataframe thead th {\n",
       "        text-align: right;\n",
       "    }\n",
       "</style>\n",
       "<table border=\"1\" class=\"dataframe\">\n",
       "  <thead>\n",
       "    <tr style=\"text-align: right;\">\n",
       "      <th></th>\n",
       "      <th>title</th>\n",
       "      <th>comments</th>\n",
       "      <th>age</th>\n",
       "      <th>thread</th>\n",
       "    </tr>\n",
       "  </thead>\n",
       "  <tbody>\n",
       "    <tr>\n",
       "      <th>0</th>\n",
       "      <td>ac dc realize official audio</td>\n",
       "      <td>4</td>\n",
       "      <td>357.322690</td>\n",
       "      <td>rock</td>\n",
       "    </tr>\n",
       "    <tr>\n",
       "      <th>1</th>\n",
       "      <td>ac dc releases new single realize power</td>\n",
       "      <td>0</td>\n",
       "      <td>192.622690</td>\n",
       "      <td>rock</td>\n",
       "    </tr>\n",
       "    <tr>\n",
       "      <th>2</th>\n",
       "      <td>teasing us years tpr pretty reckless announced...</td>\n",
       "      <td>0</td>\n",
       "      <td>252.506023</td>\n",
       "      <td>rock</td>\n",
       "    </tr>\n",
       "    <tr>\n",
       "      <th>3</th>\n",
       "      <td>geezer butler rules black sabbath shows says b...</td>\n",
       "      <td>2</td>\n",
       "      <td>799.522690</td>\n",
       "      <td>rock</td>\n",
       "    </tr>\n",
       "    <tr>\n",
       "      <th>4</th>\n",
       "      <td>black sabbath war pigs california jam</td>\n",
       "      <td>5</td>\n",
       "      <td>1207.289356</td>\n",
       "      <td>rock</td>\n",
       "    </tr>\n",
       "    <tr>\n",
       "      <th>5</th>\n",
       "      <td>lunatic band breathe official music video</td>\n",
       "      <td>0</td>\n",
       "      <td>146.706023</td>\n",
       "      <td>rock</td>\n",
       "    </tr>\n",
       "    <tr>\n",
       "      <th>6</th>\n",
       "      <td>name top rock bands</td>\n",
       "      <td>4</td>\n",
       "      <td>284.406023</td>\n",
       "      <td>rock</td>\n",
       "    </tr>\n",
       "    <tr>\n",
       "      <th>7</th>\n",
       "      <td>kiss paul stanley writes touching message make...</td>\n",
       "      <td>0</td>\n",
       "      <td>215.306023</td>\n",
       "      <td>rock</td>\n",
       "    </tr>\n",
       "    <tr>\n",
       "      <th>8</th>\n",
       "      <td>know spanish guys</td>\n",
       "      <td>0</td>\n",
       "      <td>221.706023</td>\n",
       "      <td>rock</td>\n",
       "    </tr>\n",
       "    <tr>\n",
       "      <th>9</th>\n",
       "      <td>patty smyth talks comeback unsupervised freedo...</td>\n",
       "      <td>0</td>\n",
       "      <td>16.872690</td>\n",
       "      <td>rock</td>\n",
       "    </tr>\n",
       "  </tbody>\n",
       "</table>\n",
       "</div>"
      ],
      "text/plain": [
       "                                               title  comments          age  \\\n",
       "0                       ac dc realize official audio         4   357.322690   \n",
       "1            ac dc releases new single realize power         0   192.622690   \n",
       "2  teasing us years tpr pretty reckless announced...         0   252.506023   \n",
       "3  geezer butler rules black sabbath shows says b...         2   799.522690   \n",
       "4              black sabbath war pigs california jam         5  1207.289356   \n",
       "5          lunatic band breathe official music video         0   146.706023   \n",
       "6                                name top rock bands         4   284.406023   \n",
       "7  kiss paul stanley writes touching message make...         0   215.306023   \n",
       "8                                  know spanish guys         0   221.706023   \n",
       "9  patty smyth talks comeback unsupervised freedo...         0    16.872690   \n",
       "\n",
       "  thread  \n",
       "0   rock  \n",
       "1   rock  \n",
       "2   rock  \n",
       "3   rock  \n",
       "4   rock  \n",
       "5   rock  \n",
       "6   rock  \n",
       "7   rock  \n",
       "8   rock  \n",
       "9   rock  "
      ]
     },
     "execution_count": 57,
     "metadata": {},
     "output_type": "execute_result"
    }
   ],
   "source": [
    "rock.head(10) # Display the first 10 rows"
   ]
  },
  {
   "cell_type": "code",
   "execution_count": 58,
   "metadata": {},
   "outputs": [
    {
     "data": {
      "text/html": [
       "<div>\n",
       "<style scoped>\n",
       "    .dataframe tbody tr th:only-of-type {\n",
       "        vertical-align: middle;\n",
       "    }\n",
       "\n",
       "    .dataframe tbody tr th {\n",
       "        vertical-align: top;\n",
       "    }\n",
       "\n",
       "    .dataframe thead th {\n",
       "        text-align: right;\n",
       "    }\n",
       "</style>\n",
       "<table border=\"1\" class=\"dataframe\">\n",
       "  <thead>\n",
       "    <tr style=\"text-align: right;\">\n",
       "      <th></th>\n",
       "      <th>title</th>\n",
       "      <th>comments</th>\n",
       "      <th>age</th>\n",
       "      <th>thread</th>\n",
       "    </tr>\n",
       "  </thead>\n",
       "  <tbody>\n",
       "    <tr>\n",
       "      <th>0</th>\n",
       "      <td>travis tweaking</td>\n",
       "      <td>3</td>\n",
       "      <td>852.454124</td>\n",
       "      <td>rap</td>\n",
       "    </tr>\n",
       "    <tr>\n",
       "      <th>1</th>\n",
       "      <td>painting tupac original already sold still art...</td>\n",
       "      <td>12</td>\n",
       "      <td>1432.787457</td>\n",
       "      <td>rap</td>\n",
       "    </tr>\n",
       "    <tr>\n",
       "      <th>2</th>\n",
       "      <td>fbz</td>\n",
       "      <td>0</td>\n",
       "      <td>40.437457</td>\n",
       "      <td>rap</td>\n",
       "    </tr>\n",
       "    <tr>\n",
       "      <th>3</th>\n",
       "      <td>mo officially confirmed passed boosie artist</td>\n",
       "      <td>0</td>\n",
       "      <td>45.304124</td>\n",
       "      <td>rap</td>\n",
       "    </tr>\n",
       "    <tr>\n",
       "      <th>4</th>\n",
       "      <td>new rapping get feedback</td>\n",
       "      <td>10</td>\n",
       "      <td>212.037457</td>\n",
       "      <td>rap</td>\n",
       "    </tr>\n",
       "    <tr>\n",
       "      <th>5</th>\n",
       "      <td>moe dead close friend confirms rip moe</td>\n",
       "      <td>1</td>\n",
       "      <td>105.087457</td>\n",
       "      <td>rap</td>\n",
       "    </tr>\n",
       "    <tr>\n",
       "      <th>6</th>\n",
       "      <td>comment found underneath mac miller video</td>\n",
       "      <td>2</td>\n",
       "      <td>534.620791</td>\n",
       "      <td>rap</td>\n",
       "    </tr>\n",
       "    <tr>\n",
       "      <th>7</th>\n",
       "      <td>rapper moe shot freeway dallas</td>\n",
       "      <td>0</td>\n",
       "      <td>119.204124</td>\n",
       "      <td>rap</td>\n",
       "    </tr>\n",
       "    <tr>\n",
       "      <th>8</th>\n",
       "      <td>free travis scott rodeo type beat divided</td>\n",
       "      <td>0</td>\n",
       "      <td>7.254124</td>\n",
       "      <td>rap</td>\n",
       "    </tr>\n",
       "    <tr>\n",
       "      <th>9</th>\n",
       "      <td>rapper mo reported shot</td>\n",
       "      <td>4</td>\n",
       "      <td>143.370791</td>\n",
       "      <td>rap</td>\n",
       "    </tr>\n",
       "  </tbody>\n",
       "</table>\n",
       "</div>"
      ],
      "text/plain": [
       "                                               title  comments          age  \\\n",
       "0                                    travis tweaking         3   852.454124   \n",
       "1  painting tupac original already sold still art...        12  1432.787457   \n",
       "2                                                fbz         0    40.437457   \n",
       "3       mo officially confirmed passed boosie artist         0    45.304124   \n",
       "4                           new rapping get feedback        10   212.037457   \n",
       "5             moe dead close friend confirms rip moe         1   105.087457   \n",
       "6          comment found underneath mac miller video         2   534.620791   \n",
       "7                     rapper moe shot freeway dallas         0   119.204124   \n",
       "8          free travis scott rodeo type beat divided         0     7.254124   \n",
       "9                            rapper mo reported shot         4   143.370791   \n",
       "\n",
       "  thread  \n",
       "0    rap  \n",
       "1    rap  \n",
       "2    rap  \n",
       "3    rap  \n",
       "4    rap  \n",
       "5    rap  \n",
       "6    rap  \n",
       "7    rap  \n",
       "8    rap  \n",
       "9    rap  "
      ]
     },
     "execution_count": 58,
     "metadata": {},
     "output_type": "execute_result"
    }
   ],
   "source": [
    "rap.head(10) # Display the first 10 rows"
   ]
  },
  {
   "cell_type": "code",
   "execution_count": 60,
   "metadata": {},
   "outputs": [
    {
     "data": {
      "text/html": [
       "<div>\n",
       "<style scoped>\n",
       "    .dataframe tbody tr th:only-of-type {\n",
       "        vertical-align: middle;\n",
       "    }\n",
       "\n",
       "    .dataframe tbody tr th {\n",
       "        vertical-align: top;\n",
       "    }\n",
       "\n",
       "    .dataframe thead th {\n",
       "        text-align: right;\n",
       "    }\n",
       "</style>\n",
       "<table border=\"1\" class=\"dataframe\">\n",
       "  <thead>\n",
       "    <tr style=\"text-align: right;\">\n",
       "      <th></th>\n",
       "      <th>comments</th>\n",
       "      <th>age</th>\n",
       "    </tr>\n",
       "  </thead>\n",
       "  <tbody>\n",
       "    <tr>\n",
       "      <th>count</th>\n",
       "      <td>999.000000</td>\n",
       "      <td>999.000000</td>\n",
       "    </tr>\n",
       "    <tr>\n",
       "      <th>mean</th>\n",
       "      <td>1.637638</td>\n",
       "      <td>23169.372973</td>\n",
       "    </tr>\n",
       "    <tr>\n",
       "      <th>std</th>\n",
       "      <td>5.721914</td>\n",
       "      <td>14460.388317</td>\n",
       "    </tr>\n",
       "    <tr>\n",
       "      <th>min</th>\n",
       "      <td>0.000000</td>\n",
       "      <td>16.872690</td>\n",
       "    </tr>\n",
       "    <tr>\n",
       "      <th>25%</th>\n",
       "      <td>0.000000</td>\n",
       "      <td>10667.381023</td>\n",
       "    </tr>\n",
       "    <tr>\n",
       "      <th>50%</th>\n",
       "      <td>0.000000</td>\n",
       "      <td>21572.406023</td>\n",
       "    </tr>\n",
       "    <tr>\n",
       "      <th>75%</th>\n",
       "      <td>1.000000</td>\n",
       "      <td>36060.964356</td>\n",
       "    </tr>\n",
       "    <tr>\n",
       "      <th>max</th>\n",
       "      <td>93.000000</td>\n",
       "      <td>49294.122690</td>\n",
       "    </tr>\n",
       "  </tbody>\n",
       "</table>\n",
       "</div>"
      ],
      "text/plain": [
       "         comments           age\n",
       "count  999.000000    999.000000\n",
       "mean     1.637638  23169.372973\n",
       "std      5.721914  14460.388317\n",
       "min      0.000000     16.872690\n",
       "25%      0.000000  10667.381023\n",
       "50%      0.000000  21572.406023\n",
       "75%      1.000000  36060.964356\n",
       "max     93.000000  49294.122690"
      ]
     },
     "execution_count": 60,
     "metadata": {},
     "output_type": "execute_result"
    }
   ],
   "source": [
    "rock.describe() # Get summary statistics for rock"
   ]
  },
  {
   "cell_type": "code",
   "execution_count": 62,
   "metadata": {},
   "outputs": [
    {
     "data": {
      "text/html": [
       "<div>\n",
       "<style scoped>\n",
       "    .dataframe tbody tr th:only-of-type {\n",
       "        vertical-align: middle;\n",
       "    }\n",
       "\n",
       "    .dataframe tbody tr th {\n",
       "        vertical-align: top;\n",
       "    }\n",
       "\n",
       "    .dataframe thead th {\n",
       "        text-align: right;\n",
       "    }\n",
       "</style>\n",
       "<table border=\"1\" class=\"dataframe\">\n",
       "  <thead>\n",
       "    <tr style=\"text-align: right;\">\n",
       "      <th></th>\n",
       "      <th>comments</th>\n",
       "      <th>age</th>\n",
       "    </tr>\n",
       "  </thead>\n",
       "  <tbody>\n",
       "    <tr>\n",
       "      <th>count</th>\n",
       "      <td>997.000000</td>\n",
       "      <td>997.000000</td>\n",
       "    </tr>\n",
       "    <tr>\n",
       "      <th>mean</th>\n",
       "      <td>1.793380</td>\n",
       "      <td>6853.201288</td>\n",
       "    </tr>\n",
       "    <tr>\n",
       "      <th>std</th>\n",
       "      <td>7.731659</td>\n",
       "      <td>4168.039691</td>\n",
       "    </tr>\n",
       "    <tr>\n",
       "      <th>min</th>\n",
       "      <td>0.000000</td>\n",
       "      <td>7.254124</td>\n",
       "    </tr>\n",
       "    <tr>\n",
       "      <th>25%</th>\n",
       "      <td>0.000000</td>\n",
       "      <td>3071.437457</td>\n",
       "    </tr>\n",
       "    <tr>\n",
       "      <th>50%</th>\n",
       "      <td>0.000000</td>\n",
       "      <td>6914.154124</td>\n",
       "    </tr>\n",
       "    <tr>\n",
       "      <th>75%</th>\n",
       "      <td>1.000000</td>\n",
       "      <td>10212.637474</td>\n",
       "    </tr>\n",
       "    <tr>\n",
       "      <th>max</th>\n",
       "      <td>101.000000</td>\n",
       "      <td>16007.720807</td>\n",
       "    </tr>\n",
       "  </tbody>\n",
       "</table>\n",
       "</div>"
      ],
      "text/plain": [
       "         comments           age\n",
       "count  997.000000    997.000000\n",
       "mean     1.793380   6853.201288\n",
       "std      7.731659   4168.039691\n",
       "min      0.000000      7.254124\n",
       "25%      0.000000   3071.437457\n",
       "50%      0.000000   6914.154124\n",
       "75%      1.000000  10212.637474\n",
       "max    101.000000  16007.720807"
      ]
     },
     "execution_count": 62,
     "metadata": {},
     "output_type": "execute_result"
    }
   ],
   "source": [
    "rap.describe() # Get summary statistics for rap"
   ]
  },
  {
   "cell_type": "markdown",
   "metadata": {},
   "source": [
    "### 3. Preprocessing & Visualizations"
   ]
  },
  {
   "cell_type": "code",
   "execution_count": 63,
   "metadata": {},
   "outputs": [],
   "source": [
    "# Define a function to find and visualize the most common words within thread titles\n",
    "def plot_common_words(column):\n",
    "    \n",
    "    # Instantiate CountVectorizer to Convert a collection of text documents to a matrix of token counts\n",
    "    cv = CountVectorizer(stop_words='english')\n",
    "    \n",
    "    # Call fit_transform to learn the vocabulary dictionary and return document-term matrix\n",
    "    words = cv.fit_transform(column)\n",
    "    \n",
    "    # Convert the words to a DataFrame representation with their corresponding feature names\n",
    "    df_words = pd.DataFrame(words.toarray(), columns=cv.get_feature_names())\n",
    "    \n",
    "    # Take the top 10 most common words\n",
    "    df_common = pd.DataFrame(df_words.sum().sort_values(ascending=False).head(10))\n",
    "    \n",
    "    # Relabel a column\n",
    "    df_common.rename(columns={0: 'Count'}, inplace=True)\n",
    "    \n",
    "    # Define a barplot to display the most common words\n",
    "    ax = sns.barplot(df_common.index, df_common['Count']);\n",
    "    \n",
    "    # Set the x and y-labels\n",
    "    ax.set(xlabel='Word', ylabel='Word Count')"
   ]
  },
  {
   "cell_type": "code",
   "execution_count": 65,
   "metadata": {},
   "outputs": [
    {
     "name": "stderr",
     "output_type": "stream",
     "text": [
      "C:\\Users\\Antho\\Anaconda3\\lib\\site-packages\\seaborn\\_decorators.py:43: FutureWarning: Pass the following variables as keyword args: x, y. From version 0.12, the only valid positional argument will be `data`, and passing other arguments without an explicit keyword will result in an error or misinterpretation.\n",
      "  FutureWarning\n"
     ]
    },
    {
     "data": {
      "image/png": "[encoded data removed]",
      "text/plain": [
       "<Figure size 432x288 with 1 Axes>"
      ]
     },
     "metadata": {
      "needs_background": "light"
     },
     "output_type": "display_data"
    }
   ],
   "source": [
    "# Visualize the most common terms in the rock subreddit\n",
    "plot_common_words(rock['title'])"
   ]
  },
  {
   "cell_type": "code",
   "execution_count": 66,
   "metadata": {},
   "outputs": [
    {
     "name": "stderr",
     "output_type": "stream",
     "text": [
      "C:\\Users\\Antho\\Anaconda3\\lib\\site-packages\\seaborn\\_decorators.py:43: FutureWarning: Pass the following variables as keyword args: x, y. From version 0.12, the only valid positional argument will be `data`, and passing other arguments without an explicit keyword will result in an error or misinterpretation.\n",
      "  FutureWarning\n"
     ]
    },
    {
     "data": {
      "image/png": "[encoded data removed]",
      "text/plain": [
       "<Figure size 432x288 with 1 Axes>"
      ]
     },
     "metadata": {
      "needs_background": "light"
     },
     "output_type": "display_data"
    }
   ],
   "source": [
    "# Visualize the most common terms in the rap subreddit\n",
    "plot_common_words(rap['title'])"
   ]
  },
  {
   "cell_type": "code",
   "execution_count": 67,
   "metadata": {},
   "outputs": [],
   "source": [
    "# Concatenate the two dataframes prior to model development\n",
    "df = pd.concat([rock, rap], axis=0)"
   ]
  },
  {
   "cell_type": "code",
   "execution_count": 69,
   "metadata": {},
   "outputs": [],
   "source": [
    "# Reassign rock to 1 and rap to 0 prior to binary classification\n",
    "df['thread'] = df['thread'].map(lambda x: 1 if x == 'rock' else 0)"
   ]
  },
  {
   "cell_type": "markdown",
   "metadata": {},
   "source": [
    "The data contained in the DataFrame below is going to be used to train a model in order to classify subreddit posts by name. This is a binary classification problem so I used 1 to represent rock and 0 to represent rap."
   ]
  },
  {
   "cell_type": "code",
   "execution_count": 73,
   "metadata": {},
   "outputs": [],
   "source": [
    "df.rename(columns={'thread': 'label'}, inplace=True) # Rename thread column"
   ]
  },
  {
   "cell_type": "code",
   "execution_count": 75,
   "metadata": {},
   "outputs": [
    {
     "data": {
      "text/html": [
       "<div>\n",
       "<style scoped>\n",
       "    .dataframe tbody tr th:only-of-type {\n",
       "        vertical-align: middle;\n",
       "    }\n",
       "\n",
       "    .dataframe tbody tr th {\n",
       "        vertical-align: top;\n",
       "    }\n",
       "\n",
       "    .dataframe thead th {\n",
       "        text-align: right;\n",
       "    }\n",
       "</style>\n",
       "<table border=\"1\" class=\"dataframe\">\n",
       "  <thead>\n",
       "    <tr style=\"text-align: right;\">\n",
       "      <th></th>\n",
       "      <th>title</th>\n",
       "      <th>comments</th>\n",
       "      <th>age</th>\n",
       "      <th>label</th>\n",
       "    </tr>\n",
       "  </thead>\n",
       "  <tbody>\n",
       "    <tr>\n",
       "      <th>0</th>\n",
       "      <td>ac dc realize official audio</td>\n",
       "      <td>4</td>\n",
       "      <td>357.322690</td>\n",
       "      <td>1</td>\n",
       "    </tr>\n",
       "    <tr>\n",
       "      <th>1</th>\n",
       "      <td>ac dc releases new single realize power</td>\n",
       "      <td>0</td>\n",
       "      <td>192.622690</td>\n",
       "      <td>1</td>\n",
       "    </tr>\n",
       "    <tr>\n",
       "      <th>2</th>\n",
       "      <td>teasing us years tpr pretty reckless announced...</td>\n",
       "      <td>0</td>\n",
       "      <td>252.506023</td>\n",
       "      <td>1</td>\n",
       "    </tr>\n",
       "    <tr>\n",
       "      <th>3</th>\n",
       "      <td>geezer butler rules black sabbath shows says b...</td>\n",
       "      <td>2</td>\n",
       "      <td>799.522690</td>\n",
       "      <td>1</td>\n",
       "    </tr>\n",
       "    <tr>\n",
       "      <th>4</th>\n",
       "      <td>black sabbath war pigs california jam</td>\n",
       "      <td>5</td>\n",
       "      <td>1207.289356</td>\n",
       "      <td>1</td>\n",
       "    </tr>\n",
       "  </tbody>\n",
       "</table>\n",
       "</div>"
      ],
      "text/plain": [
       "                                               title  comments          age  \\\n",
       "0                       ac dc realize official audio         4   357.322690   \n",
       "1            ac dc releases new single realize power         0   192.622690   \n",
       "2  teasing us years tpr pretty reckless announced...         0   252.506023   \n",
       "3  geezer butler rules black sabbath shows says b...         2   799.522690   \n",
       "4              black sabbath war pigs california jam         5  1207.289356   \n",
       "\n",
       "   label  \n",
       "0      1  \n",
       "1      1  \n",
       "2      1  \n",
       "3      1  \n",
       "4      1  "
      ]
     },
     "execution_count": 75,
     "metadata": {},
     "output_type": "execute_result"
    }
   ],
   "source": [
    "df.head() # Double check the label change"
   ]
  },
  {
   "cell_type": "markdown",
   "metadata": {},
   "source": [
    "### 4. Modeling"
   ]
  },
  {
   "cell_type": "code",
   "execution_count": 79,
   "metadata": {},
   "outputs": [
    {
     "data": {
      "text/plain": [
       "1    999\n",
       "0    997\n",
       "Name: label, dtype: int64"
      ]
     },
     "execution_count": 79,
     "metadata": {},
     "output_type": "execute_result"
    }
   ],
   "source": [
    "df['label'].value_counts() # Double check mapping function output"
   ]
  },
  {
   "cell_type": "code",
   "execution_count": 82,
   "metadata": {},
   "outputs": [
    {
     "name": "stdout",
     "output_type": "stream",
     "text": [
      "Training Data Shape: (1996, 4)\n"
     ]
    }
   ],
   "source": [
    "print('Training Data Shape: ' + str(df.shape)) # Find the shape of the new combined text DataFrame"
   ]
  },
  {
   "cell_type": "code",
   "execution_count": 83,
   "metadata": {},
   "outputs": [
    {
     "data": {
      "text/plain": [
       "title       0\n",
       "comments    0\n",
       "age         0\n",
       "label       0\n",
       "dtype: int64"
      ]
     },
     "execution_count": 83,
     "metadata": {},
     "output_type": "execute_result"
    }
   ],
   "source": [
    "df.isnull().sum() # Double check null counts"
   ]
  },
  {
   "cell_type": "code",
   "execution_count": 84,
   "metadata": {},
   "outputs": [],
   "source": [
    "# Assign model training variables\n",
    "X = df['title']\n",
    "y = df['label']"
   ]
  },
  {
   "cell_type": "code",
   "execution_count": 85,
   "metadata": {},
   "outputs": [],
   "source": [
    "X_train, X_test, y_train, y_test = train_test_split(X, y, stratify=y) # Split the data into training and testing sets"
   ]
  },
  {
   "cell_type": "code",
   "execution_count": 98,
   "metadata": {},
   "outputs": [
    {
     "name": "stdout",
     "output_type": "stream",
     "text": [
      "Original Label Proportions: \n",
      "\n",
      "1    0.500501\n",
      "0    0.499499\n",
      "Name: label, dtype: float64\n",
      "\n",
      "Testing Label Proportions: \n",
      "\n",
      "1    0.501002\n",
      "0    0.498998\n",
      "Name: label, dtype: float64\n"
     ]
    }
   ],
   "source": [
    "# Validate the stratify parameter\n",
    "print('Original Label Proportions: \\n\\n' + str(df['label'].value_counts(normalize=True)))\n",
    "print()\n",
    "print('Testing Label Proportions: \\n\\n' + str(y_test.value_counts(normalize=True)))"
   ]
  },
  {
   "cell_type": "markdown",
   "metadata": {},
   "source": [
    "The original label proportions appear to approximately match the testing label proportions, validating the use of the stratify parameter when performing the train/test split."
   ]
  },
  {
   "cell_type": "code",
   "execution_count": null,
   "metadata": {},
   "outputs": [],
   "source": [
    "# Define a custom function to remove a given list of words from a dataframe column.\n",
    "def remove_given_words(column, given_words):\n",
    "    \n",
    "    cv = CountVectorizer(stop_words=given_words)\n",
    "    words = cv.fit_transform(column)\n",
    "    df_words = pd.DataFrame(words.toarray(), columns=cv.get_feature_names())\n",
    "    print(df_words.sum())\n",
    "    return df_words"
   ]
  },
  {
   "cell_type": "code",
   "execution_count": null,
   "metadata": {},
   "outputs": [],
   "source": [
    "# Consider gridsearching over logistic regression parameters\n",
    "lr = LogisticRegression()\n",
    "lr.get_params()"
   ]
  },
  {
   "cell_type": "code",
   "execution_count": null,
   "metadata": {},
   "outputs": [],
   "source": [
    "# Establish a pipeline to contain transformers and a final estimator\n",
    "pipe = Pipeline([\n",
    "    \n",
    "    ('cvec', CountVectorizer()), # Converts a collection of text into a matrix of token counts\n",
    "    ('lr', LogisticRegression()) # For predicting binary class labels\n",
    "    #('lr', LogisticRegression(penalty='elasticnet', solver='saga', l1_ratio=0.5))\n",
    "    \n",
    "])\n",
    "\n",
    "# The elasticnet is a regularized expression method that linearly combines the L1 and L2 Lasso and Ridge methods.\n",
    "# The saga solver supports the elasticnet regularizaion penalty\n",
    "# l1_ratio sets the proportion of L1 and L2 regularization. Setting it to 0.5 applies equal amounts of L1 and L2 regularization.\n",
    "\n",
    "# Set the pipeline parameters that I want gridsearch to vary\n",
    "pipe_params = {\n",
    "    \n",
    "    'cvec__max_features': [100, 500, 1000], # Consider the first 100, 500 and 1000 words\n",
    "    'cvec__ngram_range': [(1, 1), (1, 2), (1, 3)], # Consider 1, 2 and 3 grams\n",
    "    'cvec__stop_words': [None, 'english'] # Build the model with no stopwords and with English stopwords\n",
    "    #'lr__C': [1, 1e3, 1e6, 1e9] # Inverse of regularization strength; must be a positive float. Like in support vector machines, smaller values specify stronger regularization.\n",
    "    \n",
    "}\n",
    "\n",
    "# Instantiate GridSearchCV, fit the model and find the best set of parameters\n",
    "gs = GridSearchCV(pipe, param_grid=pipe_params, cv=5)\n",
    "gs.fit(X_train, y_train)\n",
    "gs_model = gs.best_estimator_\n",
    "\n",
    "# Display relevant model scores\n",
    "print(f'CVEC/LR Best Accuracy Score: {round(gs.best_score_, 3)}')\n",
    "print(f'CVEC/LR Training Score: {round(gs_model.score(X_train, y_train), 3)}')\n",
    "print(f'CVEC/LR Testing Score: {round(gs_model.score(X_test, y_test), 3)}')\n",
    "print(f'Score Drop: {round(round(gs_model.score(X_train, y_train), 3) - round(gs_model.score(X_test, y_test), 3), 3)}')"
   ]
  },
  {
   "cell_type": "markdown",
   "metadata": {},
   "source": [
    "Varying the amount and types of regularization in the model had very little effect on the scores. My original model was chosen as the best because of its simplicity and manageable amount of overfitting."
   ]
  },
  {
   "cell_type": "code",
   "execution_count": null,
   "metadata": {},
   "outputs": [],
   "source": [
    "# Establish a pipeline to contain transformers and a final estimator\n",
    "pipe2 = Pipeline([\n",
    "    \n",
    "    ('tfidf', TfidfVectorizer()), # TFIDF is a statistical measure of the importance of a specific word to a corpus\n",
    "    ('lr', LogisticRegression(penalty='elasticnet', solver='saga', l1_ratio=0.5)) # For predicting binary class labels\n",
    "    \n",
    "])\n",
    "\n",
    "# The elasticnet is a regularized expression method that linearly combines the L1 and L2 Lasso and Ridge methods.\n",
    "# The saga solver supports the elasticnet regularizaion penalty\n",
    "# l1_ratio sets the proportion of L1 and L2 regularization. Setting it to 0.5 applies equal amounts of L1 and L2 regularization.\n",
    "\n",
    "# Set the pipeline parameters that I want gridsearch to vary\n",
    "pipe_params2 = {\n",
    "    \n",
    "    'tfidf__max_features': [100, 500, 1000], # Consider the first 100, 500 and 1000 words\n",
    "    'tfidf__ngram_range': [(1, 1), (1, 2), (1, 3)], # Consider 1, 2 and 3 grams\n",
    "    'tfidf__stop_words': [None, 'english'], # Build the model with no stopwords and with English stopwords\n",
    "    'lr__C': [1, 1e3, 1e6, 1e9] # Inverse of regularization strength; must be a positive float. Like in support vector machines, smaller values specify stronger regularization.\n",
    "}\n",
    "\n",
    "# Instantiate GridSearchCV, fit the model and find the best set of parameters\n",
    "gs2 = GridSearchCV(pipe2, param_grid=pipe_params2, cv=5)\n",
    "gs2.fit(X_train, y_train)\n",
    "gs_model2 = gs2.best_estimator_\n",
    "\n",
    "# Display relevant model scores\n",
    "print(f'TFIDF/LR Best Accuracy Score: {round(gs2.best_score_, 3)}')\n",
    "print(f'TFIDF/LR Training Score: {round(gs_model2.score(X_train, y_train), 3)}')\n",
    "print(f'TFIDF/LR Testing Score: {round(gs_model2.score(X_test, y_test), 3)}')\n",
    "print(f'Score Drop: {round(round(gs_model2.score(X_train, y_train), 3) - round(gs_model2.score(X_test, y_test), 3), 3)}')"
   ]
  },
  {
   "cell_type": "markdown",
   "metadata": {},
   "source": [
    "Varying the amount and types of regularization in the model had a negative effect on the scores but led to a drastic decrease in overfitting. The new model varying the amount of elasticnet regularization was chosen as best."
   ]
  },
  {
   "cell_type": "code",
   "execution_count": null,
   "metadata": {},
   "outputs": [],
   "source": [
    "# Consider gridsearching over BernoulliNB parameters\n",
    "nb = BernoulliNB()\n",
    "nb.get_params()"
   ]
  },
  {
   "cell_type": "code",
   "execution_count": null,
   "metadata": {},
   "outputs": [],
   "source": [
    "# Establish a pipeline to contain transformers and a final estimator\n",
    "pipe4 = Pipeline([\n",
    "    \n",
    "    ('cvec', CountVectorizer()), # Converts a collection of text into a matrix of token counts\n",
    "    ('nb', BernoulliNB()) # Bernoulli Naive Bayes is used to predict a binary outcome\n",
    "    \n",
    "])\n",
    "\n",
    "# Set the pipeline parameters that I want gridsearch to vary\n",
    "pipe_params4 = {\n",
    "    \n",
    "    'cvec__max_features': [100, 500, 1000], # Consider the first 100, 500 and 1000 words\n",
    "    'cvec__ngram_range': [(1, 1), (1, 2), (1, 3)], # Consider 1, 2 and 3 grams\n",
    "    'cvec__stop_words': [None, 'english'] # Build the model with no stopwords and with English stopwords\n",
    "}\n",
    "\n",
    "# Instantiate GridSearchCV, fit the model and find the best set of parameters\n",
    "gs4 = GridSearchCV(pipe4, param_grid=pipe_params4, cv=5)\n",
    "gs4.fit(X_train, y_train)\n",
    "gs_model4 = gs4.best_estimator_\n",
    "\n",
    "# Display relevant model scores\n",
    "print(f'CVEC/BNB Best Accuracy Score: {round(gs4.best_score_, 3)}')\n",
    "print(f'CVEC/BNB Training Score: {round(gs_model4.score(X_train, y_train), 3)}')\n",
    "print(f'CVEC/BNB Testing Score {round(gs_model4.score(X_test, y_test), 3)}')\n",
    "print(f'Score Drop: {round(round(gs_model4.score(X_train, y_train), 3) - round(gs_model4.score(X_test, y_test), 3), 3)}')"
   ]
  },
  {
   "cell_type": "code",
   "execution_count": null,
   "metadata": {},
   "outputs": [],
   "source": [
    "# Establish a pipeline to contain transformers and a final estimator\n",
    "pipe5 = Pipeline([\n",
    "    \n",
    "    ('tfidf', TfidfVectorizer()), # TFIDF is a statistical measure of the importance of a specific word to a corpus\n",
    "    ('nb', BernoulliNB()) # Bernoulli Naive Bayes is used to predict a binary outcome\n",
    "    \n",
    "])\n",
    "\n",
    "# Set the pipeline parameters that I want gridsearch to vary\n",
    "pipe_params5 = {\n",
    "    \n",
    "    'tfidf__max_features': [100, 500, 1000], # Consider the first 100, 500 and 1000 words\n",
    "    'tfidf__ngram_range': [(1, 1), (1, 2), (1, 3)], # Consider 1, 2 and 3 grams\n",
    "    'tfidf__stop_words': [None, 'english'] # Build the model with no stopwords and with English stopwords\n",
    "}\n",
    "\n",
    "# Instantiate GridSearchCV, fit the model and find the best set of parameters\n",
    "gs5 = GridSearchCV(pipe5, param_grid=pipe_params5, cv=5)\n",
    "gs5.fit(X_train, y_train)\n",
    "gs_model5 = gs5.best_estimator_\n",
    "\n",
    "# Display relevant model scores\n",
    "print(f'TFIDF/BNB Best Accuracy Score: {round(gs5.best_score_, 3)}')\n",
    "print(f'TFIDF/BNB Training Score: {round(gs_model5.score(X_train, y_train), 3)}')\n",
    "print(f'TFIDF/BNB Testing Score {round(gs_model5.score(X_test, y_test), 3)}')\n",
    "print(f'Score Drop: {round(round(gs_model5.score(X_train, y_train), 3) - round(gs_model5.score(X_test, y_test), 3), 3)}')"
   ]
  },
  {
   "cell_type": "markdown",
   "metadata": {},
   "source": [
    "The data under consideration for this project are in text form, so some form of text vectorization must occur before instantiating any sort of model. I chose to implement pipelines vectorizing the text data first using CountVectorizer and second using TfidfVectorizer. This is a binary classification problem so the first two pipelines used a Logistic Regression (LR) model and functioned as a baseline. Added benefits of using LR include interpretability, accuracy and ease of implementation. The Naive Bayes classifier was then implemented and compared to the results of LR. \n",
    "\n",
    "For more information regarding model selection, see README.md. "
   ]
  }
 ],
 "metadata": {
  "kernelspec": {
   "display_name": "Python 3",
   "language": "python",
   "name": "python3"
  },
  "language_info": {
   "codemirror_mode": {
    "name": "ipython",
    "version": 3
   },
   "file_extension": ".py",
   "mimetype": "text/x-python",
   "name": "python",
   "nbconvert_exporter": "python",
   "pygments_lexer": "ipython3",
   "version": "3.7.4"
  }
 },
 "nbformat": 4,
 "nbformat_minor": 2
}
